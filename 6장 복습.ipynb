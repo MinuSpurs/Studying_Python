{
 "cells": [
  {
   "cell_type": "code",
   "execution_count": 1,
   "id": "07459d97",
   "metadata": {},
   "outputs": [
    {
     "name": "stdout",
     "output_type": "stream",
     "text": [
      "25\n",
      "36\n",
      "8\n",
      "53\n",
      "24\n",
      "56\n"
     ]
    }
   ],
   "source": [
    "for i in [25,36,8,53,24,56]:\n",
    "    print(i)"
   ]
  },
  {
   "cell_type": "code",
   "execution_count": 2,
   "id": "376474a6",
   "metadata": {},
   "outputs": [
    {
     "name": "stdout",
     "output_type": "stream",
     "text": [
      "25\n",
      "36\n",
      "8\n",
      "53\n",
      "24\n",
      "56\n"
     ]
    }
   ],
   "source": [
    "spending=[25,36,8,53,24,56]\n",
    "\n",
    "for s in spending:\n",
    "    print(s)"
   ]
  },
  {
   "cell_type": "code",
   "execution_count": 7,
   "id": "f74f30b3",
   "metadata": {},
   "outputs": [
    {
     "name": "stdout",
     "output_type": "stream",
     "text": [
      "1월 지출은 25, 2월 지출은 36, 3월 지출은 8, 4월 지출은 53, 5월 지출은 24, 6월 지출은 56, "
     ]
    }
   ],
   "source": [
    "spending=[25,36,8,53,24,56]\n",
    "for s in range(len(spending)):\n",
    "    print('{}월 지출은 {}'.format(s+1,spending[s]),end=', ')"
   ]
  },
  {
   "cell_type": "code",
   "execution_count": 8,
   "id": "a00689d6",
   "metadata": {},
   "outputs": [
    {
     "name": "stdout",
     "output_type": "stream",
     "text": [
      "[24, 38, 19, 40]\n"
     ]
    }
   ],
   "source": [
    "abc=[]\n",
    "abc.append(24)\n",
    "abc.append(38)\n",
    "abc.append(19)\n",
    "abc.append(40)\n",
    "print(abc)"
   ]
  },
  {
   "cell_type": "code",
   "execution_count": 9,
   "id": "238bcd3b",
   "metadata": {},
   "outputs": [
    {
     "name": "stdout",
     "output_type": "stream",
     "text": [
      "해야할 일을 입력하세요 : 안녕\n",
      "['안녕']\n"
     ]
    }
   ],
   "source": [
    "todo=[]\n",
    "todo.append(input('해야할 일을 입력하세요 : '))\n",
    "print(todo)"
   ]
  },
  {
   "cell_type": "code",
   "execution_count": 12,
   "id": "de342056",
   "metadata": {},
   "outputs": [
    {
     "name": "stdout",
     "output_type": "stream",
     "text": [
      "해야할 일을 입력하세요 : \n",
      "1\n",
      "['1']\n",
      "2\n",
      "['1', '2']\n",
      "3\n",
      "['1', '2', '3']\n",
      "4\n",
      "['1', '2', '3', '4']\n",
      "5\n",
      "['1', '2', '3', '4', '5']\n"
     ]
    }
   ],
   "source": [
    "todo=[]\n",
    "print('해야할 일을 입력하세요 : ')\n",
    "for t in range(5):\n",
    "    todo.append(input())\n",
    "    print(todo)"
   ]
  },
  {
   "cell_type": "code",
   "execution_count": 17,
   "id": "7287aa35",
   "metadata": {},
   "outputs": [
    {
     "name": "stdout",
     "output_type": "stream",
     "text": [
      " 우주최강\n"
     ]
    }
   ],
   "source": [
    "a='나는야 우주최강'\n",
    "print(a[-5:])"
   ]
  },
  {
   "cell_type": "code",
   "execution_count": 25,
   "id": "b70c550b",
   "metadata": {},
   "outputs": [
    {
     "name": "stdout",
     "output_type": "stream",
     "text": [
      "['피자', '파스타', '치킨', '스테이크', '바나나', '된장찌개', '감자칩']\n",
      "4\n"
     ]
    }
   ],
   "source": [
    "food=['피자','치킨','스테이크','된장찌개','바나나','파스타','감자칩']\n",
    "food.sort(reverse=True)\n",
    "print(food)\n",
    "print(food.index('바나나'))"
   ]
  },
  {
   "cell_type": "code",
   "execution_count": 23,
   "id": "bfbacc9f",
   "metadata": {},
   "outputs": [
    {
     "name": "stdout",
     "output_type": "stream",
     "text": [
      "[56, 53]\n",
      "56 8\n",
      "202\n"
     ]
    }
   ],
   "source": [
    "spending=[25,36,8,53,24,56]\n",
    "spending.sort(reverse=True)\n",
    "print(spending[:2])\n",
    "print(max(spending),min(spending))\n",
    "print(sum(spending))"
   ]
  },
  {
   "cell_type": "code",
   "execution_count": 3,
   "id": "f0d1ead3",
   "metadata": {},
   "outputs": [
    {
     "name": "stdout",
     "output_type": "stream",
     "text": [
      "찾는 음식은? 아니요\n",
      "아니요은 순위에 없습니다.\n"
     ]
    }
   ],
   "source": [
    "food=['피자','치킨','스테이크','된장찌개']\n",
    "search=input('찾는 음식은? ')\n",
    "\n",
    "if search in food:\n",
    "    print('{}위입니다.'.format(food.index(search)+1))\n",
    "else:\n",
    "    print('{}은 순위에 없습니다.'.format(search))"
   ]
  },
  {
   "cell_type": "code",
   "execution_count": 5,
   "id": "2b98ab82",
   "metadata": {},
   "outputs": [
    {
     "name": "stdout",
     "output_type": "stream",
     "text": [
      "시청한 영상은? 뉴스\n",
      "시청한 영상은? ㅇ\n",
      "시청한 영상은? ㄹ\n",
      "시청한 영상은? ㅎ\n",
      "시청한 영상은? ㅗ\n",
      "지금까지 시청한 영상은 ['뉴스', 'ㅇ', 'ㄹ', 'ㅎ', 'ㅗ']\n",
      "뉴스 영상을 좋아하시면 속보 영상도 좋아하실 것 같아요!\n"
     ]
    }
   ],
   "source": [
    "history=[]\n",
    "\n",
    "for i in range(5):\n",
    "    history.append(input('시청한 영상은? '))\n",
    "print('지금까지 시청한 영상은 {}'.format(history))\n",
    "if '다이어트' in history:\n",
    "    print('다이어트 영상을 좋아하시면 홈트레이닝 영상도 좋아하실 것 같아요!')\n",
    "if '뉴스' in history:\n",
    "    print('뉴스 영상을 좋아하시면 속보 영상도 좋아하실 것 같아요!')"
   ]
  },
  {
   "cell_type": "code",
   "execution_count": 13,
   "id": "62d5d4cc",
   "metadata": {},
   "outputs": [
    {
     "name": "stdout",
     "output_type": "stream",
     "text": [
      "[49, 64, 95, 71, 54, 63, 74, 25, 80, 27, 23, 53, 34, 12, 46, 55, 72, 32, 92, 99, 57, 56, 41, 34, 98]\n",
      "리스트를 이용해 출력\n",
      "3번 95\n",
      "4번 71\n",
      "7번 74\n",
      "9번 80\n",
      "17번 72\n",
      "19번 92\n",
      "20번 99\n",
      "25번 98\n",
      "인덱스를 이용해 출력\n",
      "3번 95\n",
      "4번 71\n",
      "7번 74\n",
      "9번 80\n",
      "17번 72\n",
      "19번 92\n",
      "20번 99\n",
      "25번 98\n"
     ]
    }
   ],
   "source": [
    "import random\n",
    "score=[]\n",
    "\n",
    "for i in range(25):\n",
    "    score.append(random.randint(0,100))\n",
    "print(score)\n",
    "\n",
    "print('리스트를 이용해 출력')\n",
    "for s in score:\n",
    "    if s>=70:\n",
    "        print('{}번 {}'.format(score.index(s)+1,s))\n",
    "\n",
    "print('인덱스를 이용해 출력')\n",
    "for i in range(len(score)):\n",
    "    if score[i]>=70:\n",
    "        print('{}번 {}'.format(i+1,score[i]))"
   ]
  },
  {
   "cell_type": "code",
   "execution_count": 14,
   "id": "b3076c40",
   "metadata": {},
   "outputs": [
    {
     "name": "stdout",
     "output_type": "stream",
     "text": [
      "지하철~ 지하철~\n",
      "역 입력 : 강남\n",
      "역 입력 : 신대방\n",
      "역 입력 : 신림\n",
      "역 입력 : 구로\n",
      "땡~~\n"
     ]
    }
   ],
   "source": [
    "line2=['구로디지털단지','신대방','신림','서울대입구','사당','방배','서초','교대','강남']\n",
    "print('지하철~ 지하철~')\n",
    "\n",
    "for i in range(10):\n",
    "    station=input('역 입력 : ')\n",
    "    if station not in line2:\n",
    "        print('땡~~')\n",
    "        break"
   ]
  },
  {
   "cell_type": "code",
   "execution_count": 63,
   "id": "3e0fe167",
   "metadata": {},
   "outputs": [
    {
     "name": "stdout",
     "output_type": "stream",
     "text": [
      "['역사탐험대', '파이썬', '학습법', '영단어', '여행에세이', '삼국지']\n",
      "[22758, 18727, 17154, 23398, 21190, 21146]\n",
      "가장 비싼 책은 영단어\n"
     ]
    }
   ],
   "source": [
    "import random\n",
    "\n",
    "name = ['역사탐험대','파이썬','학습법','영단어','여행에세이','삼국지']\n",
    "price = []\n",
    "\n",
    "for i in range(len(name)):\n",
    "    price.append(random.randint(15000,25000))\n",
    "print(name)\n",
    "print(price)\n",
    "\n",
    "best = max(price)\n",
    "print('가장 비싼 책은 {}'.format(name[price.index(best)]))\n"
   ]
  },
  {
   "cell_type": "code",
   "execution_count": 66,
   "id": "109a98d9",
   "metadata": {},
   "outputs": [
    {
     "name": "stdout",
     "output_type": "stream",
     "text": [
      "1)\n",
      "[1, '라이언']\n",
      "[2, '니니즈']\n",
      "[3, '어피치']\n",
      "[4, '프로도']\n",
      "[5, '네오']\n",
      "\n",
      "2)\n",
      "['라이언', 956412]\n",
      "['니니즈', 861832]\n",
      "['어피치', 796354]\n",
      "['프로도', 534840]\n",
      "\n",
      "3)\n",
      "니니즈   65343표 떨어짐\n",
      "프로도   329486표 떨어짐\n",
      "네오   260471표 떨어짐\n",
      "\n",
      "4)\n",
      "라이언\n",
      "니니즈\n",
      "프로도\n"
     ]
    }
   ],
   "source": [
    "ranking=[[1,'라이언',956412,564553],\n",
    "        [2,'니니즈',861832,927175],\n",
    "        [3,'어피치',796354,593175],\n",
    "        [4,'프로도',534840,864326],\n",
    "        [5,'네오',387896,648367]]\n",
    "print('1)')\n",
    "for r in ranking:\n",
    "    print(r[:2])\n",
    "print('\\n2)')\n",
    "for r in ranking:\n",
    "    if r[2]>500000:\n",
    "        print(r[1:3])\n",
    "print('\\n3)')\n",
    "for r in ranking:\n",
    "    if r[2]<r[3]:\n",
    "        print(r[1],' ',str(r[3]-r[2])+'표 떨어짐')\n",
    "print('\\n4)')\n",
    "for r in ranking:\n",
    "    if r[2]>800000:\n",
    "        print(r[1])\n",
    "    elif r[3]>800000:\n",
    "        print(r[1])"
   ]
  }
 ],
 "metadata": {
  "kernelspec": {
   "display_name": "Python 3",
   "language": "python",
   "name": "python3"
  },
  "language_info": {
   "codemirror_mode": {
    "name": "ipython",
    "version": 3
   },
   "file_extension": ".py",
   "mimetype": "text/x-python",
   "name": "python",
   "nbconvert_exporter": "python",
   "pygments_lexer": "ipython3",
   "version": "3.8.8"
  }
 },
 "nbformat": 4,
 "nbformat_minor": 5
}
