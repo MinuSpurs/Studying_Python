{
 "cells": [
  {
   "cell_type": "code",
   "execution_count": 15,
   "id": "f5ba42c7",
   "metadata": {},
   "outputs": [
    {
     "name": "stdout",
     "output_type": "stream",
     "text": [
      "7\n"
     ]
    }
   ],
   "source": [
    "import random\n",
    "print(random.randrange(1,10,3))"
   ]
  },
  {
   "cell_type": "code",
   "execution_count": 26,
   "id": "c1039930",
   "metadata": {},
   "outputs": [
    {
     "name": "stdout",
     "output_type": "stream",
     "text": [
      "구구단을 외자! 구구단을 외자!\n",
      "8x7?3\n",
      "2x7?3\n",
      "6x6?3\n",
      "3x1?3\n",
      "9x2?3\n"
     ]
    }
   ],
   "source": [
    "print('구구단을 외자! 구구단을 외자!')\n",
    "\n",
    "for i in range(5):\n",
    "    a,b=random.randint(2,9),random.randint(1,9)\n",
    "    que=str(a)+'x'+str(b)+'?'\n",
    "    input(que)"
   ]
  },
  {
   "cell_type": "code",
   "execution_count": 28,
   "id": "0132d16e",
   "metadata": {},
   "outputs": [
    {
     "name": "stdout",
     "output_type": "stream",
     "text": [
      "숫자 입력 : 9\n",
      "숫자 입력 : 11\n"
     ]
    }
   ],
   "source": [
    "num=0\n",
    "\n",
    "while num<10:\n",
    "    num=int(input('숫자 입력 : '))"
   ]
  },
  {
   "cell_type": "code",
   "execution_count": 31,
   "id": "4d31337b",
   "metadata": {},
   "outputs": [
    {
     "name": "stdout",
     "output_type": "stream",
     "text": [
      "1275\n"
     ]
    }
   ],
   "source": [
    "i=1\n",
    "result=0\n",
    "while i<51:\n",
    "    result+=i\n",
    "    i+=1\n",
    "print(result)"
   ]
  },
  {
   "cell_type": "code",
   "execution_count": 37,
   "id": "18539238",
   "metadata": {},
   "outputs": [
    {
     "name": "stdout",
     "output_type": "stream",
     "text": [
      "구구단을 외자! 구구단을 외자!\n",
      "8x6?48\n",
      "9x3?27\n",
      "5x1?1\n",
      "틀렸습니다!\n",
      "8x3?24\n",
      "5x5?3\n",
      "틀렸습니다!\n"
     ]
    }
   ],
   "source": [
    "print('구구단을 외자! 구구단을 외자!')\n",
    "\n",
    "for i in range(5):\n",
    "    a,b=random.randint(2,9),random.randint(1,9)\n",
    "    que=str(a)+'x'+str(b)+'?'\n",
    "    ans=int(input(que))\n",
    "    if ans!=a*b:\n",
    "        print('틀렸습니다!')"
   ]
  },
  {
   "cell_type": "code",
   "execution_count": 45,
   "id": "519b4164",
   "metadata": {},
   "outputs": [
    {
     "name": "stdout",
     "output_type": "stream",
     "text": [
      "1은(는) 홀수,2은(는) 짝수,3은(는) 홀수,4은(는) 짝수,5은(는) 홀수,6은(는) 짝수,7은(는) 홀수,8은(는) 짝수,9은(는) 홀수,10은(는) 짝수,11은(는) 홀수,12은(는) 짝수,13은(는) 홀수,14은(는) 짝수,15은(는) 홀수,16은(는) 짝수,17은(는) 홀수,18은(는) 짝수,19은(는) 홀수,20은(는) 짝수,21은(는) 홀수,22은(는) 짝수,23은(는) 홀수,24은(는) 짝수,25은(는) 홀수,26은(는) 짝수,27은(는) 홀수,28은(는) 짝수,29은(는) 홀수,30은(는) 짝수,"
     ]
    }
   ],
   "source": [
    "i=1\n",
    "\n",
    "while i<31:\n",
    "    if i%2!=0:\n",
    "        print('{}은(는) 홀수'.format(i),end=', ')\n",
    "    else:\n",
    "        print('{}은(는) 짝수'.format(i),end=', ')\n",
    "    i+=1"
   ]
  },
  {
   "cell_type": "code",
   "execution_count": 46,
   "id": "1124af98",
   "metadata": {},
   "outputs": [
    {
     "name": "stdout",
     "output_type": "stream",
     "text": [
      "yes\n"
     ]
    }
   ],
   "source": [
    "if '아버지' in '아버지가방에들어가신다.':\n",
    "    print('yes')"
   ]
  },
  {
   "cell_type": "code",
   "execution_count": 47,
   "id": "6d4a8bc8",
   "metadata": {},
   "outputs": [
    {
     "name": "stdout",
     "output_type": "stream",
     "text": [
      "yes\n"
     ]
    }
   ],
   "source": [
    "if '어머니' not in '아버지가방에들어가신다.':\n",
    "    print('yes')"
   ]
  },
  {
   "cell_type": "code",
   "execution_count": 50,
   "id": "89695026",
   "metadata": {},
   "outputs": [
    {
     "name": "stdout",
     "output_type": "stream",
     "text": [
      "369 369~ 369 369~\n",
      "1 2 짝! 4 5 짝! 7 8 짝! 10 11 12 짝! 14 15 짝! 17 18 짝! 20 21 22 짝! 24 25 짝! 27 28 짝! 짝! 짝! 짝! 짝! 짝! 짝! 짝! 짝! 짝! 짝! 40 41 42 짝! 44 45 짝! 47 48 짝! 50 51 52 짝! 54 55 짝! 57 58 짝! 짝! 짝! 짝! 짝! 짝! 짝! 짝! 짝! 짝! 짝! 70 71 72 짝! 74 75 짝! 77 78 짝! 80 81 82 짝! 84 85 짝! 87 88 짝! 짝! 짝! 짝! 짝! 짝! 짝! 짝! 짝! 짝! 짝! 100 "
     ]
    }
   ],
   "source": [
    "i=1\n",
    "print('369 369~ 369 369~')\n",
    "\n",
    "while i<101:\n",
    "    if '3' in str(i) or '6' in str(i) or '9' in str(i):\n",
    "        print('짝!',end=' ')\n",
    "    else:\n",
    "        print(i,end=' ')\n",
    "    i+=1"
   ]
  },
  {
   "cell_type": "code",
   "execution_count": 56,
   "id": "9441736f",
   "metadata": {},
   "outputs": [
    {
     "name": "stdout",
     "output_type": "stream",
     "text": [
      "구구단을 외자! 구구단을 외자!\n",
      "4x5?23\n",
      "틀렸습니다! 5번 반복해 읽어봅시다.\n",
      "4x5? 20\n",
      "4x5? 20\n",
      "4x5? 20\n",
      "4x5? 20\n",
      "4x5? 20\n",
      "3x5?15\n",
      "5x2?10\n",
      "7x7?23\n",
      "틀렸습니다! 5번 반복해 읽어봅시다.\n",
      "7x7? 49\n",
      "7x7? 49\n",
      "7x7? 49\n",
      "7x7? 49\n",
      "7x7? 49\n",
      "3x3?10\n",
      "틀렸습니다! 5번 반복해 읽어봅시다.\n",
      "3x3? 9\n",
      "3x3? 9\n",
      "3x3? 9\n",
      "3x3? 9\n",
      "3x3? 9\n"
     ]
    }
   ],
   "source": [
    "print('구구단을 외자! 구구단을 외자!')\n",
    "\n",
    "for i in range(5):\n",
    "    a,b=random.randint(2,9),random.randint(1,9)\n",
    "    que=str(a)+'x'+str(b)+'?'\n",
    "    ans=int(input(que))\n",
    "    if ans!=a*b:\n",
    "        j=1\n",
    "        print('틀렸습니다! 5번 반복해 읽어봅시다.')\n",
    "        while j<6:\n",
    "            print('{} {}'.format(que,a*b))\n",
    "            j+=1"
   ]
  },
  {
   "cell_type": "code",
   "execution_count": 57,
   "id": "c03e941e",
   "metadata": {},
   "outputs": [
    {
     "name": "stdout",
     "output_type": "stream",
     "text": [
      "숫자 입력 : 13\n",
      "1 2 3 4 5 6 7 8 9 10 11 12 13 "
     ]
    }
   ],
   "source": [
    "ans1 = int(input('숫자 입력 : '))\n",
    "for i in range(1,20):\n",
    "    print(i,end=' ')\n",
    "    if ans1==i:\n",
    "        break"
   ]
  },
  {
   "cell_type": "code",
   "execution_count": 58,
   "id": "6ec2da7d",
   "metadata": {},
   "outputs": [
    {
     "name": "stdout",
     "output_type": "stream",
     "text": [
      "숫자 입력 : 13\n",
      "1 2 3 4 5 6 7 8 9 10 11 12 "
     ]
    }
   ],
   "source": [
    "ans1 = int(input('숫자 입력 : '))\n",
    "for i in range(1,20):\n",
    "    if ans1==i:\n",
    "        break\n",
    "    print(i,end=' ')"
   ]
  },
  {
   "cell_type": "code",
   "execution_count": 59,
   "id": "160e2e3e",
   "metadata": {},
   "outputs": [
    {
     "name": "stdout",
     "output_type": "stream",
     "text": [
      "구구단을 외자! 구구단을 외자!\n",
      "5x6?30\n",
      "6x4?24\n",
      "7x1?8\n",
      "틀렸습니다! 정답은 7\n"
     ]
    }
   ],
   "source": [
    "print('구구단을 외자! 구구단을 외자!')\n",
    "\n",
    "for i in range(5):\n",
    "    a,b=random.randint(2,9),random.randint(1,9)\n",
    "    que=str(a)+'x'+str(b)+'?'\n",
    "    ans=int(input(que))\n",
    "    if ans!=a*b:\n",
    "        print('틀렸습니다! 정답은 {}'.format(a*b))\n",
    "        break"
   ]
  },
  {
   "cell_type": "code",
   "execution_count": 61,
   "id": "e361cb83",
   "metadata": {},
   "outputs": [
    {
     "name": "stdout",
     "output_type": "stream",
     "text": [
      "구구단을 외자! 구구단을 외자!\n",
      "6x3?18\n",
      "7x9?63\n",
      "6x7?24\n",
      "틀렸습니다! 정답은 42\n"
     ]
    }
   ],
   "source": [
    "print('구구단을 외자! 구구단을 외자!')\n",
    "ans,a,b=0,0,0\n",
    "\n",
    "while ans==a*b:\n",
    "    a,b=random.randint(2,9),random.randint(1,9)\n",
    "    que=str(a)+'x'+str(b)+'?'\n",
    "    ans=int(input(que))\n",
    "print('틀렸습니다! 정답은 {}'.format(a*b))"
   ]
  },
  {
   "cell_type": "code",
   "execution_count": 70,
   "id": "f04e9b6c",
   "metadata": {},
   "outputs": [
    {
     "name": "stdout",
     "output_type": "stream",
     "text": [
      "369 369~ 369 369~\n",
      "1\n",
      "2\n",
      "짝\n",
      "4\n",
      "5\n",
      "짝\n",
      "6\n",
      "틀렸습니다1.\n"
     ]
    }
   ],
   "source": [
    "i=1\n",
    "print('369 369~ 369 369~')\n",
    "\n",
    "while i<101:\n",
    "    say=input()\n",
    "    if '3' in str(i) or '6' in str(i) or '9' in str(i):\n",
    "        if say!='짝':\n",
    "            print('틀렸습니다.')\n",
    "            break\n",
    "    else:\n",
    "        if say!=str(i):\n",
    "            print('틀렸습니다1.')\n",
    "            break\n",
    "    i+=1"
   ]
  },
  {
   "cell_type": "code",
   "execution_count": 71,
   "id": "84071ccf",
   "metadata": {},
   "outputs": [
    {
     "name": "stdout",
     "output_type": "stream",
     "text": [
      "10\n",
      "20\n",
      "30\n",
      "40\n",
      "50\n",
      "60\n",
      "70\n",
      "80\n",
      "90\n",
      "100\n"
     ]
    }
   ],
   "source": [
    "for i in range(1,11):\n",
    "    print(i*10)"
   ]
  },
  {
   "cell_type": "code",
   "execution_count": 73,
   "id": "e25c9733",
   "metadata": {},
   "outputs": [
    {
     "name": "stdout",
     "output_type": "stream",
     "text": [
      "홈트 2주 계획\n",
      "1 일: 스쿼트 - 윗몸 일으키기 - 유산소 운동\n",
      "2 일: 스쿼트 - 윗몸 일으키기 - 유산소 운동\n",
      "3 일: 스쿼트 - 윗몸 일으키기 - 유산소 운동\n",
      "4 일: 스쿼트 - 윗몸 일으키기 - 유산소 운동\n",
      "5 일: 휴식일입니다.\n",
      "6 일: 스쿼트 - 윗몸 일으키기 - 유산소 운동\n",
      "7 일: 스쿼트 - 윗몸 일으키기 - 유산소 운동\n",
      "8 일: 스쿼트 - 윗몸 일으키기 - 유산소 운동\n",
      "9 일: 스쿼트 - 윗몸 일으키기 - 유산소 운동\n",
      "10 일: 휴식일입니다.\n",
      "11 일: 스쿼트 - 윗몸 일으키기 - 유산소 운동\n",
      "12 일: 스쿼트 - 윗몸 일으키기 - 유산소 운동\n",
      "13 일: 스쿼트 - 윗몸 일으키기 - 유산소 운동\n",
      "14 일: 스쿼트 - 윗몸 일으키기 - 유산소 운동\n"
     ]
    }
   ],
   "source": [
    "print('홈트 2주 계획')\n",
    "for i in range(1,15):\n",
    "    if i%5==0:\n",
    "        print(i, '일: 휴식일입니다.')\n",
    "    else:\n",
    "        print(i,'일: 스쿼트 - 윗몸 일으키기 - 유산소 운동')"
   ]
  },
  {
   "cell_type": "code",
   "execution_count": 74,
   "id": "3da490d7",
   "metadata": {},
   "outputs": [
    {
     "name": "stdout",
     "output_type": "stream",
     "text": [
      "팅 팅팅팅 탱 탱탱탱 팅팅 탱탱 후라이팬 놀이!\n",
      "이름? 민우\n",
      "횟수? 3\n",
      "민우민우민우\n",
      "이름? 병신\n",
      "횟수? 2\n",
      "병신병신\n"
     ]
    },
    {
     "ename": "KeyboardInterrupt",
     "evalue": "Interrupted by user",
     "output_type": "error",
     "traceback": [
      "\u001b[1;31m---------------------------------------------------------------------------\u001b[0m",
      "\u001b[1;31mKeyboardInterrupt\u001b[0m                         Traceback (most recent call last)",
      "\u001b[1;32m<ipython-input-74-a548d5ee82d1>\u001b[0m in \u001b[0;36m<module>\u001b[1;34m\u001b[0m\n\u001b[0;32m      1\u001b[0m \u001b[0mprint\u001b[0m\u001b[1;33m(\u001b[0m\u001b[1;34m'팅 팅팅팅 탱 탱탱탱 팅팅 탱탱 후라이팬 놀이!'\u001b[0m\u001b[1;33m)\u001b[0m\u001b[1;33m\u001b[0m\u001b[1;33m\u001b[0m\u001b[0m\n\u001b[0;32m      2\u001b[0m \u001b[1;32mfor\u001b[0m \u001b[0mi\u001b[0m \u001b[1;32min\u001b[0m \u001b[0mrange\u001b[0m\u001b[1;33m(\u001b[0m\u001b[1;36m5\u001b[0m\u001b[1;33m)\u001b[0m\u001b[1;33m:\u001b[0m\u001b[1;33m\u001b[0m\u001b[1;33m\u001b[0m\u001b[0m\n\u001b[1;32m----> 3\u001b[1;33m     \u001b[0mname\u001b[0m\u001b[1;33m=\u001b[0m\u001b[0minput\u001b[0m\u001b[1;33m(\u001b[0m\u001b[1;34m'이름? '\u001b[0m\u001b[1;33m)\u001b[0m\u001b[1;33m\u001b[0m\u001b[1;33m\u001b[0m\u001b[0m\n\u001b[0m\u001b[0;32m      4\u001b[0m     \u001b[0mcount\u001b[0m\u001b[1;33m=\u001b[0m\u001b[0mint\u001b[0m\u001b[1;33m(\u001b[0m\u001b[0minput\u001b[0m\u001b[1;33m(\u001b[0m\u001b[1;34m'횟수? '\u001b[0m\u001b[1;33m)\u001b[0m\u001b[1;33m)\u001b[0m\u001b[1;33m\u001b[0m\u001b[1;33m\u001b[0m\u001b[0m\n\u001b[0;32m      5\u001b[0m     \u001b[0mprint\u001b[0m\u001b[1;33m(\u001b[0m\u001b[0mname\u001b[0m\u001b[1;33m*\u001b[0m\u001b[0mcount\u001b[0m\u001b[1;33m)\u001b[0m\u001b[1;33m\u001b[0m\u001b[1;33m\u001b[0m\u001b[0m\n",
      "\u001b[1;32m~\\anaconda3\\lib\\site-packages\\ipykernel\\kernelbase.py\u001b[0m in \u001b[0;36mraw_input\u001b[1;34m(self, prompt)\u001b[0m\n\u001b[0;32m    858\u001b[0m                 \u001b[1;34m\"raw_input was called, but this frontend does not support input requests.\"\u001b[0m\u001b[1;33m\u001b[0m\u001b[1;33m\u001b[0m\u001b[0m\n\u001b[0;32m    859\u001b[0m             )\n\u001b[1;32m--> 860\u001b[1;33m         return self._input_request(str(prompt),\n\u001b[0m\u001b[0;32m    861\u001b[0m             \u001b[0mself\u001b[0m\u001b[1;33m.\u001b[0m\u001b[0m_parent_ident\u001b[0m\u001b[1;33m,\u001b[0m\u001b[1;33m\u001b[0m\u001b[1;33m\u001b[0m\u001b[0m\n\u001b[0;32m    862\u001b[0m             \u001b[0mself\u001b[0m\u001b[1;33m.\u001b[0m\u001b[0m_parent_header\u001b[0m\u001b[1;33m,\u001b[0m\u001b[1;33m\u001b[0m\u001b[1;33m\u001b[0m\u001b[0m\n",
      "\u001b[1;32m~\\anaconda3\\lib\\site-packages\\ipykernel\\kernelbase.py\u001b[0m in \u001b[0;36m_input_request\u001b[1;34m(self, prompt, ident, parent, password)\u001b[0m\n\u001b[0;32m    902\u001b[0m             \u001b[1;32mexcept\u001b[0m \u001b[0mKeyboardInterrupt\u001b[0m\u001b[1;33m:\u001b[0m\u001b[1;33m\u001b[0m\u001b[1;33m\u001b[0m\u001b[0m\n\u001b[0;32m    903\u001b[0m                 \u001b[1;31m# re-raise KeyboardInterrupt, to truncate traceback\u001b[0m\u001b[1;33m\u001b[0m\u001b[1;33m\u001b[0m\u001b[1;33m\u001b[0m\u001b[0m\n\u001b[1;32m--> 904\u001b[1;33m                 \u001b[1;32mraise\u001b[0m \u001b[0mKeyboardInterrupt\u001b[0m\u001b[1;33m(\u001b[0m\u001b[1;34m\"Interrupted by user\"\u001b[0m\u001b[1;33m)\u001b[0m \u001b[1;32mfrom\u001b[0m \u001b[1;32mNone\u001b[0m\u001b[1;33m\u001b[0m\u001b[1;33m\u001b[0m\u001b[0m\n\u001b[0m\u001b[0;32m    905\u001b[0m             \u001b[1;32mexcept\u001b[0m \u001b[0mException\u001b[0m \u001b[1;32mas\u001b[0m \u001b[0me\u001b[0m\u001b[1;33m:\u001b[0m\u001b[1;33m\u001b[0m\u001b[1;33m\u001b[0m\u001b[0m\n\u001b[0;32m    906\u001b[0m                 \u001b[0mself\u001b[0m\u001b[1;33m.\u001b[0m\u001b[0mlog\u001b[0m\u001b[1;33m.\u001b[0m\u001b[0mwarning\u001b[0m\u001b[1;33m(\u001b[0m\u001b[1;34m\"Invalid Message:\"\u001b[0m\u001b[1;33m,\u001b[0m \u001b[0mexc_info\u001b[0m\u001b[1;33m=\u001b[0m\u001b[1;32mTrue\u001b[0m\u001b[1;33m)\u001b[0m\u001b[1;33m\u001b[0m\u001b[1;33m\u001b[0m\u001b[0m\n",
      "\u001b[1;31mKeyboardInterrupt\u001b[0m: Interrupted by user"
     ]
    }
   ],
   "source": [
    "print('팅 팅팅팅 탱 탱탱탱 팅팅 탱탱 후라이팬 놀이!')\n",
    "for i in range(5):\n",
    "    name=input('이름? ')\n",
    "    count=int(input('횟수? '))\n",
    "    print(name*count)"
   ]
  }
 ],
 "metadata": {
  "kernelspec": {
   "display_name": "Python 3",
   "language": "python",
   "name": "python3"
  },
  "language_info": {
   "codemirror_mode": {
    "name": "ipython",
    "version": 3
   },
   "file_extension": ".py",
   "mimetype": "text/x-python",
   "name": "python",
   "nbconvert_exporter": "python",
   "pygments_lexer": "ipython3",
   "version": "3.8.8"
  }
 },
 "nbformat": 4,
 "nbformat_minor": 5
}
