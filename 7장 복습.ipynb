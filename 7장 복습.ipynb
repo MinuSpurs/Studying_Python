{
 "cells": [
  {
   "cell_type": "code",
   "execution_count": 1,
   "id": "6313016f",
   "metadata": {},
   "outputs": [
    {
     "name": "stdout",
     "output_type": "stream",
     "text": [
      "['깨어지다', '부서지다']\n"
     ]
    }
   ],
   "source": [
    "eng={'break':['깨어지다','부서지다'],'bring':'가져오다','brush':['붓','빗']}\n",
    "print(eng['break'])"
   ]
  },
  {
   "cell_type": "code",
   "execution_count": 3,
   "id": "33812d0d",
   "metadata": {},
   "outputs": [
    {
     "name": "stdout",
     "output_type": "stream",
     "text": [
      "어떤 메뉴? 라면\n",
      "3000원 입니다.\n"
     ]
    }
   ],
   "source": [
    "menu={'김밥':2500,'참치김밥':3500,'라면':3000,'치즈라면':4000}\n",
    "eat=input('어떤 메뉴? ')\n",
    "print('{}원 입니다.'.format(menu[eat]))"
   ]
  },
  {
   "cell_type": "code",
   "execution_count": 4,
   "id": "7d6ef326",
   "metadata": {},
   "outputs": [
    {
     "name": "stdout",
     "output_type": "stream",
     "text": [
      "{'김밥': 3000, '참치김밥': 3500, '라면': 3000, '치즈라면': 4000}\n"
     ]
    }
   ],
   "source": [
    "menu['김밥']+=500\n",
    "print(menu)"
   ]
  },
  {
   "cell_type": "code",
   "execution_count": 5,
   "id": "74f3214e",
   "metadata": {},
   "outputs": [
    {
     "name": "stdout",
     "output_type": "stream",
     "text": [
      "{}\n",
      "{'강아지': 'dog'}\n",
      "{'강아지': 'dog', '고양이': 'cat'}\n"
     ]
    }
   ],
   "source": [
    "eng={}\n",
    "print(eng)\n",
    "eng['강아지']='dog'\n",
    "print(eng)\n",
    "eng['고양이']='cat'\n",
    "print(eng)"
   ]
  },
  {
   "cell_type": "code",
   "execution_count": 6,
   "id": "47cf8e1c",
   "metadata": {},
   "outputs": [
    {
     "name": "stdout",
     "output_type": "stream",
     "text": [
      "추가할 메뉴 : 쫄면\n",
      "가격 : 6000\n",
      "{'김밥': 2500, '참치김밥': 3500, '라면': 3000, '치즈라면': 4000, '쫄면': '6000'}\n"
     ]
    }
   ],
   "source": [
    "menu={'김밥':2500,'참치김밥':3500,'라면':3000,'치즈라면':4000}\n",
    "name=input('추가할 메뉴 : ')\n",
    "price=input('가격 : ')\n",
    "menu[name]=price\n",
    "print(menu)"
   ]
  },
  {
   "cell_type": "code",
   "execution_count": 7,
   "id": "17aa2d2d",
   "metadata": {},
   "outputs": [
    {
     "name": "stdout",
     "output_type": "stream",
     "text": [
      "{'김밥': 2500, '참치김밥': 3500, '라면': 3000, '쫄면': '6000'}\n"
     ]
    }
   ],
   "source": [
    "del menu['치즈라면']\n",
    "print(menu)"
   ]
  },
  {
   "cell_type": "code",
   "execution_count": 8,
   "id": "26e9e246",
   "metadata": {},
   "outputs": [
    {
     "name": "stdout",
     "output_type": "stream",
     "text": [
      "{'월요일': 'Mon', '화요일': 'Tue', '수요일': 'Wed', '목요일': 'Thu', '금요일': 'Fri', '토요일': 'Sat', '일요일': 'Sun'}\n"
     ]
    }
   ],
   "source": [
    "day={'월요일':'Mon','화요일':'Tue','수요일':'Wed','목요일':'Thu','금요일':'Fri'}\n",
    "day['토요일']='Sat'\n",
    "day['일요일']='Sun'\n",
    "print(day)"
   ]
  },
  {
   "cell_type": "code",
   "execution_count": 9,
   "id": "e9f3cc0c",
   "metadata": {},
   "outputs": [
    {
     "name": "stdout",
     "output_type": "stream",
     "text": [
      "{'월요일': 'Mon', '화요일': 'Tue', '수요일': 'Wed', '목요일': 'Thu', '금요일': 'Fri', '토요일': 'Sat', '일요일': 'SUN'}\n"
     ]
    }
   ],
   "source": [
    "day={'월요일':'Mon','화요일':'Tue','수요일':'Wed','목요일':'Thu','금요일':'Fri'}\n",
    "day['토요일']='Sat'\n",
    "day['일요일']='SUN'\n",
    "print(day)"
   ]
  },
  {
   "cell_type": "code",
   "execution_count": 10,
   "id": "b9bd5772",
   "metadata": {},
   "outputs": [
    {
     "name": "stdout",
     "output_type": "stream",
     "text": [
      "{'월요일': 'Mon', '화요일': 'Tue', '목요일': 'Thu', '금요일': 'Fri', '토요일': 'Sat', '일요일': 'SUN'}\n"
     ]
    }
   ],
   "source": [
    "day={'월요일':'Mon','화요일':'Tue','수요일':'Wed','목요일':'Thu','금요일':'Fri'}\n",
    "day['토요일']='Sat'\n",
    "day['일요일']='SUN'\n",
    "del day['수요일']\n",
    "print(day)"
   ]
  },
  {
   "cell_type": "code",
   "execution_count": 15,
   "id": "5b0f9838",
   "metadata": {},
   "outputs": [
    {
     "name": "stdout",
     "output_type": "stream",
     "text": [
      "{'역사대모험': 2200.0, '영단어': 9900.0, '파이썬': 17850.0, '여행에세이': 23100.0, '삼국지': 34650.0}\n"
     ]
    }
   ],
   "source": [
    "book={'역사대모험':2000,'영단어':9000,'파이썬':17000,'여행에세이':22000,'삼국지':33000}\n",
    "#15000 이하는 10% 인상, 15000원 이상은 5% 인상\n",
    "for b in book:\n",
    "    if book[b]<=15000:\n",
    "        book[b]+=book[b]*0.1\n",
    "    else:\n",
    "        book[b]+=book[b]*0.05\n",
    "print(book)"
   ]
  },
  {
   "cell_type": "code",
   "execution_count": 19,
   "id": "0ba462ad",
   "metadata": {},
   "outputs": [
    {
     "data": {
      "text/plain": [
       "[('라이언', 956412),\n",
       " ('니니즈', 861832),\n",
       " ('어피치', 796354),\n",
       " ('프로도', 534840),\n",
       " ('네오', 387896)]"
      ]
     },
     "execution_count": 19,
     "metadata": {},
     "output_type": "execute_result"
    }
   ],
   "source": [
    "import operator\n",
    "\n",
    "ranking={'라이언':956412, '어피치':796354,'니니즈':861832,'네오':387896,'프로도':534840}\n",
    "\n",
    "sorted(ranking.items(), key=operator.itemgetter(1),reverse=True)"
   ]
  }
 ],
 "metadata": {
  "kernelspec": {
   "display_name": "Python 3",
   "language": "python",
   "name": "python3"
  },
  "language_info": {
   "codemirror_mode": {
    "name": "ipython",
    "version": 3
   },
   "file_extension": ".py",
   "mimetype": "text/x-python",
   "name": "python",
   "nbconvert_exporter": "python",
   "pygments_lexer": "ipython3",
   "version": "3.8.8"
  }
 },
 "nbformat": 4,
 "nbformat_minor": 5
}
