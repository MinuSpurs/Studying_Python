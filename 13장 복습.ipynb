{
 "cells": [
  {
   "cell_type": "code",
   "execution_count": 1,
   "id": "a3d3d0f0",
   "metadata": {},
   "outputs": [
    {
     "name": "stdout",
     "output_type": "stream",
     "text": [
      "hi\n",
      "My name is Python\n"
     ]
    }
   ],
   "source": [
    "def hi():\n",
    "    print('hi')\n",
    "    print('My name is Python')\n",
    "    \n",
    "hi()"
   ]
  },
  {
   "cell_type": "code",
   "execution_count": 3,
   "id": "d052df12",
   "metadata": {},
   "outputs": [
    {
     "name": "stdout",
     "output_type": "stream",
     "text": [
      "hi\n",
      "My name is dragon\n"
     ]
    }
   ],
   "source": [
    "def hi(name):\n",
    "    print('hi')\n",
    "    print('My name is {}'.format(name))\n",
    "    \n",
    "hi(name='dragon')"
   ]
  },
  {
   "cell_type": "code",
   "execution_count": 6,
   "id": "d3d73d11",
   "metadata": {},
   "outputs": [
    {
     "name": "stdout",
     "output_type": "stream",
     "text": [
      "hi\n",
      "My name is 고라니 and My job is programmer\n",
      "hi\n",
      "My name is 고라니 and My job is programmer\n",
      "hi\n",
      "My name is programmer and My job is 고라니\n"
     ]
    }
   ],
   "source": [
    "def hi(name, job):\n",
    "    print('hi')\n",
    "    print('My name is {} and My job is {}'.format(name, job))\n",
    "    \n",
    "hi(name='고라니',job='programmer')\n",
    "hi('고라니','programmer')\n",
    "hi('programmer','고라니')"
   ]
  },
  {
   "cell_type": "code",
   "execution_count": 7,
   "id": "3d8ec8df",
   "metadata": {},
   "outputs": [
    {
     "name": "stdout",
     "output_type": "stream",
     "text": [
      "hi\n",
      "My name is A\n",
      "hi\n",
      "My name is B\n",
      "hi\n",
      "My name is C\n"
     ]
    }
   ],
   "source": [
    "def hi(name='A'):\n",
    "    print('hi')\n",
    "    print('My name is {}'.format(name))\n",
    "    \n",
    "hi()\n",
    "hi(name='B')\n",
    "hi('C')"
   ]
  },
  {
   "cell_type": "code",
   "execution_count": 8,
   "id": "e6b48977",
   "metadata": {},
   "outputs": [
    {
     "name": "stdout",
     "output_type": "stream",
     "text": [
      "hi\n",
      "My name is None\n"
     ]
    }
   ],
   "source": [
    "def hi(name=None):\n",
    "    print('hi')\n",
    "    print('My name is {}'.format(name))\n",
    "    \n",
    "hi()"
   ]
  },
  {
   "cell_type": "code",
   "execution_count": 12,
   "id": "b9bc0e07",
   "metadata": {},
   "outputs": [
    {
     "name": "stdout",
     "output_type": "stream",
     "text": [
      "1335\n"
     ]
    }
   ],
   "source": [
    "def plus(num1, num2):\n",
    "    result=num1+num2\n",
    "    return(result)\n",
    "    \n",
    "print(plus(486,849))"
   ]
  },
  {
   "cell_type": "code",
   "execution_count": 13,
   "id": "137b8041",
   "metadata": {},
   "outputs": [
    {
     "name": "stdout",
     "output_type": "stream",
     "text": [
      "첫 번째 숫자 : 3\n",
      "두 번째 숫자 : 5\n",
      "두 수의 합 : 8\n"
     ]
    }
   ],
   "source": [
    "def plus(num1, num2):\n",
    "    result=num1+num2\n",
    "    return(result)\n",
    "\n",
    "a,b=int(input('첫 번째 숫자 : ')), int(input('두 번째 숫자 : '))\n",
    "sum_ab = plus(a,b)\n",
    "print('두 수의 합 : {}'.format(sum_ab))"
   ]
  },
  {
   "cell_type": "code",
   "execution_count": 17,
   "id": "e6259ec8",
   "metadata": {},
   "outputs": [
    {
     "name": "stdout",
     "output_type": "stream",
     "text": [
      "환산 점수 : 53.1, 합격 여부 : no\n"
     ]
    }
   ],
   "source": [
    "def calculate(kor, eng, mat):\n",
    "    score = kor*0.3 + eng*0.3 + mat*0.4\n",
    "    if score >80:\n",
    "        pass_yn = 'yes'\n",
    "    else:\n",
    "        pass_yn = 'no'\n",
    "    return score, pass_yn\n",
    "        \n",
    "stu1_sco, stu1_pass = calculate(1,80,72)\n",
    "print('환산 점수 : {}, 합격 여부 : {}'.format(stu1_sco, stu1_pass))"
   ]
  },
  {
   "cell_type": "code",
   "execution_count": 18,
   "id": "2880349e",
   "metadata": {},
   "outputs": [
    {
     "name": "stdout",
     "output_type": "stream",
     "text": [
      "자기소개를 시작합니다.\n",
      "이름은? james\n",
      "hi\n",
      "My name is james!\n",
      "james님 안녕하세요.\n"
     ]
    }
   ],
   "source": [
    "def hi():\n",
    "    name = input('이름은? ')\n",
    "    print('hi')\n",
    "    print('My name is {}!'.format(name))\n",
    "    return name\n",
    "\n",
    "print('자기소개를 시작합니다.')\n",
    "person = hi()\n",
    "print('{}님 안녕하세요.'.format(person))"
   ]
  },
  {
   "cell_type": "code",
   "execution_count": 21,
   "id": "e49b25c8",
   "metadata": {},
   "outputs": [
    {
     "name": "stdout",
     "output_type": "stream",
     "text": [
      "7 20\n",
      "9 40\n",
      "11 80\n",
      "13 160\n",
      "15 320\n"
     ]
    }
   ],
   "source": [
    "def func1():\n",
    "    global a,b\n",
    "    a+=2\n",
    "    b*=2\n",
    "    print(a,b)\n",
    "    \n",
    "a,b=5,10\n",
    "for i in range(5):\n",
    "    func1()"
   ]
  },
  {
   "cell_type": "code",
   "execution_count": 23,
   "id": "0c29d2e1",
   "metadata": {},
   "outputs": [
    {
     "name": "stdout",
     "output_type": "stream",
     "text": [
      "현재 점수 : 5\n",
      "상점 입력 후 점수: 10\n",
      "최종 점수 : 10\n"
     ]
    }
   ],
   "source": [
    "def reward_penalty(kind, points):\n",
    "    global current\n",
    "    print('현재 점수 : {}'.format(current))\n",
    "    if kind == '상점':\n",
    "        current+=points\n",
    "        print('상점 입력 후 점수: {}'.format(current))\n",
    "    elif kind=='벌점':\n",
    "        current-=points\n",
    "        print('상점 입력 후 점수: {}'.format(current))\n",
    "    return current\n",
    "\n",
    "current = 5\n",
    "reward_penalty('상점',5)\n",
    "print('최종 점수 : {}'.format(current))"
   ]
  },
  {
   "cell_type": "code",
   "execution_count": 26,
   "id": "231dce27",
   "metadata": {},
   "outputs": [
    {
     "name": "stdout",
     "output_type": "stream",
     "text": [
      "구구단을 외자! 구구단을 외자!\n",
      "4 X 7 = ? 3\n",
      "땡! 틀렸습니다.\n"
     ]
    }
   ],
   "source": [
    "import random\n",
    "\n",
    "def gugudan(num1, num2):\n",
    "    answer = int(input('{} X {} = ? '.format(str(num1), str(num2))))\n",
    "    \n",
    "    if answer == num1*num2:\n",
    "        return 0\n",
    "    else:\n",
    "        return -1\n",
    "\n",
    "print('구구단을 외자! 구구단을 외자!')\n",
    "for i in range(20):\n",
    "    a,b = random.randint(2,9), random.randint(1,9)\n",
    "    if gugudan(a,b) != 0:\n",
    "        print('땡! 틀렸습니다.')\n",
    "        break"
   ]
  },
  {
   "cell_type": "code",
   "execution_count": 37,
   "id": "4c243006",
   "metadata": {},
   "outputs": [
    {
     "name": "stdout",
     "output_type": "stream",
     "text": [
      "팅팅팅팅 탱탱탱탱 팅팅 탱탱 후라이팬 놀이!\n",
      "이름? 고양이\n",
      "횟수? 6\n",
      "1~4의 숫자만 가능합니다! 입력한 숫자(6)\n"
     ]
    }
   ],
   "source": [
    "players = ['까치', '강아지', '토끼', '고양이', '참새']\n",
    "\n",
    "def game_play(name, cnt):\n",
    "    print(name*cnt)\n",
    "\n",
    "def wrong_play(name, cnt):\n",
    "    if name not in players:\n",
    "        print('{}은/는 없는 이름입니다.'.format(name))\n",
    "        return -1\n",
    "    if cnt<1 or cnt>4:\n",
    "        print('1~4의 숫자만 가능합니다! 입력한 숫자({})'.format(cnt))\n",
    "        return -1\n",
    "    \n",
    "print('팅팅팅팅 탱탱탱탱 팅팅 탱탱 후라이팬 놀이!')\n",
    "for i in range(5):\n",
    "    next_player, cnt = input('이름? '),int(input('횟수? '))\n",
    "    if  wrong_play(next_player, cnt)== -1 :\n",
    "        break\n",
    "    else:\n",
    "        game_play(next_player, cnt)"
   ]
  },
  {
   "cell_type": "code",
   "execution_count": 11,
   "id": "3d62cc15",
   "metadata": {},
   "outputs": [],
   "source": [
    "import csv\n",
    "\n",
    "def file_open():\n",
    "    f = open('LOCAL_PEOPLE_DONG_202112.csv', encoding = 'utf8')\n",
    "    data = csv.reader(f)\n",
    "    next(data)\n",
    "    data = list(data)\n",
    "    \n",
    "    f2 = open('dong_code.csv', encoding = 'utf8')\n",
    "    code_data = csv.reader(f2)\n",
    "    next(code_data)\n",
    "    next(code_data)\n",
    "    code_data = list(code_data)\n",
    "    \n",
    "    for row in data: \n",
    "        for i in range(1, 32): \n",
    "            if i <= 2:\n",
    "                row[i] = int(row[i])\n",
    "            else:\n",
    "                row[i] = float(row[i])\n",
    "\n",
    "    for row in code_data: \n",
    "        row[1] = int(row[1])\n",
    "        \n",
    "    return data,code_data"
   ]
  },
  {
   "cell_type": "code",
   "execution_count": 3,
   "id": "cceac3fe",
   "metadata": {},
   "outputs": [],
   "source": [
    "def dong_search(dong_name) : \n",
    "    for row in code_data: \n",
    "        if row[-1] == dong_name: \n",
    "            code = row[1]\n",
    "    print(dong_name, '-',code, '을(를) 분석합니다!')\n",
    "    \n",
    "    return code"
   ]
  },
  {
   "cell_type": "code",
   "execution_count": 4,
   "id": "73e47aa3",
   "metadata": {},
   "outputs": [],
   "source": [
    "import matplotlib.pyplot as plt\n",
    "\n",
    "def graph_plot(popu_list, label_list, graph_title):\n",
    "    plt.rc('font', family='Malgun Gothic')\n",
    "    plt.title(graph_title)\n",
    "    for i in range(len(popu_list)): \n",
    "        plt.plot(range(24), popu_list[i], label=label_list[i])\n",
    "    plt.legend()\n",
    "    plt.xlabel('시간대')\n",
    "    plt.ylabel('평균인구수')\n",
    "    plt.xticks(range(24), range(24))\n",
    "    plt.show()"
   ]
  },
  {
   "cell_type": "code",
   "execution_count": 5,
   "id": "66f8c89f",
   "metadata": {},
   "outputs": [],
   "source": [
    "def analysis1(dong_name, dong_code): \n",
    "    # 3.1 입력된 행정동의 시간대별 평균인구 구하기\n",
    "    population = [0 for i in range(24)]\n",
    "    for row in data: \n",
    "        if row[2] == dong_code: \n",
    "            time, p = row[1], row[3]\n",
    "            population[time] += p\n",
    "    population = [p/31 for p in population]\n",
    "\n",
    "    # 3.2 3.1에서 구한 평균인구 리스트로 꺾은선 그래프 그리기\n",
    "    population = [population]\n",
    "    labels = ['평균인구']\n",
    "    title = dong_name + ' 시간대별 평균인구'\n",
    "    graph_plot(popu_list = population, label_list = labels, graph_title = title)\n"
   ]
  },
  {
   "cell_type": "code",
   "execution_count": 6,
   "id": "55cf209d",
   "metadata": {},
   "outputs": [],
   "source": [
    "import datetime\n",
    "\n",
    "def analysis2(dong_name, dong_code): \n",
    "    # 4.1 입력된 행정동의 주중/주말 시간대별 평균인구 구하기\n",
    "    weekday = [0 for i in range(24)]\n",
    "    weekend = [0 for i in range(24)]\n",
    "\n",
    "    for row in data: \n",
    "        if row[2] == dong_code: \n",
    "            time, p = row[1], row[3]\n",
    "            year, mon, day = int(row[0][:4]), int(row[0][4:6]), int(row[0][6:])\n",
    "            num = datetime.date(year, mon, day).weekday()\n",
    "            if num < 5: \n",
    "                weekday[time] += p\n",
    "            else: \n",
    "                weekend[time] += p\n",
    " \n",
    "    weekday_cnt, weekend_cnt = 0, 0\n",
    "    for i in range(1, 32): \n",
    "        if datetime.date(2019,12,i).weekday() < 5:\n",
    "            weekday_cnt += 1\n",
    "        else: \n",
    "            weekend_cnt += 1\n",
    "\n",
    "    weekday = [w/weekday_cnt for w in weekday]\n",
    "    weekend = [w/weekend_cnt for w in weekend]\n",
    "\n",
    "    # 4.2 4.1에서 구한 평균인구 리스트로 꺾은선 그래프 그리기 \n",
    "    data_set = [weekday, weekend]\n",
    "    labels = ['주중', '주말']\n",
    "    title = dong_name + ' 주중/주말 시간대별 평균인구'\n",
    "    graph_plot(popu_list = data_set, label_list = labels, graph_title = title)\n"
   ]
  },
  {
   "cell_type": "code",
   "execution_count": 7,
   "id": "76a4c78e",
   "metadata": {},
   "outputs": [],
   "source": [
    "def analysis3(dong_name, dong_code): \n",
    "    # 5.1 입력된 행정동의 남/녀 시간대별 평균인구 구하기\n",
    "    male = [0 for i in range(24)]\n",
    "    female = [0 for i in range(24)]\n",
    "\n",
    "    for row in data: \n",
    "        if row[2] == dong_code: \n",
    "            time = int(row[1])\n",
    "            male[time] += sum(row[4:18])\n",
    "            female[time] += sum(row[18:32])\n",
    "    male = [m/31 for m in male]\n",
    "    female = [f/31 for f in female]\n",
    "\n",
    "    # 5.2 5.1에서 구한 평균인구 리스트로 꺾은선 그래프 그리기\n",
    "    data_set = [male, female]\n",
    "    labels = ['남성', '여성']\n",
    "    title = dong_name + ' 남녀 시간대별 평균인구'\n",
    "    graph_plot(popu_list = data_set, label_list = labels, graph_title = title)"
   ]
  },
  {
   "cell_type": "code",
   "execution_count": 8,
   "id": "5fdb0049",
   "metadata": {},
   "outputs": [],
   "source": [
    "def analysis1(dong_name, dong_code, graph_yn = 'y'):\n",
    "    population = [0 for i in range(24)]\n",
    "    for row in data: \n",
    "        if row[2] == dong_code: \n",
    "            time, p = row[1], row[3]\n",
    "            population[time] += p\n",
    "    population = [p/31 for p in population]\n",
    "\n",
    "    # 그래프를 그리지 않는 경우 인구 리스트만 반환하고 종료 \n",
    "    if graph_yn == 'n': \n",
    "        return population\n",
    "\n",
    "    population = [population]\n",
    "    labels = ['평균인구']\n",
    "    title = dong_name + ' 시간대별 평균인구'\n",
    "    graph_plot(popu_list = population, label_list = labels, graph_title = title)\n"
   ]
  },
  {
   "cell_type": "code",
   "execution_count": 9,
   "id": "e3489702",
   "metadata": {},
   "outputs": [],
   "source": [
    "def analysis4(dong_name1, dong_code1):\n",
    "    # 6.1 비교할 지역을 입력받아 행정동코드 알아내기\n",
    "    dong_name2 = input('비교할 행정동을 입력하세요 --> ')\n",
    "    dong_code2 = dong_search(dong_name2)\n",
    "\n",
    "    # 6.2 두 지역의 시간대별 평균인구 구하기\n",
    "    population1 = analysis1(dong_name = dong_name1, dong_code = dong_code1, graph_yn = 'n')\n",
    "    population2 = analysis1(dong_name = dong_name2, dong_code = dong_code2, graph_yn = 'n') \n",
    "\n",
    "    # 6.3 6.2에서 구한 평균인구 리스트로 꺾은선 그래프 그리기\n",
    "    data_set = [population1, population2]\n",
    "    labels = [dong_name1, dong_name2]\n",
    "    title = dong_name1 + '과' + dong_name2 + ' 시간대별 평균인구'\n",
    "    graph_plot(popu_list = data_set, label_list = labels, graph_title = title)\n"
   ]
  },
  {
   "cell_type": "code",
   "execution_count": 13,
   "id": "bb6dbbab",
   "metadata": {},
   "outputs": [
    {
     "name": "stdout",
     "output_type": "stream",
     "text": [
      "핫플레이스가 위치한 행정동을 입력하세요 --> 압구정동\n",
      "압구정동 - 11680545 을(를) 분석합니다!\n",
      "비교할 행정동을 입력하세요 --> 진관동\n",
      "진관동 - 11380690 을(를) 분석합니다!\n"
     ]
    },
    {
     "data": {
      "image/png": "[encoded data removed]",
      "text/plain": [
       "<Figure size 432x288 with 1 Axes>"
      ]
     },
     "metadata": {
      "needs_background": "light"
     },
     "output_type": "display_data"
    }
   ],
   "source": [
    "# 함수 호출 부분\n",
    "data, code_data = file_open()\n",
    "\n",
    "input_name = input('핫플레이스가 위치한 행정동을 입력하세요 --> ')\n",
    "input_code = dong_search(input_name)\n",
    "\n",
    "# analysis1(dong_name = input_name, dong_code = input_code)\n",
    "# analysis2(dong_name = input_name, dong_code = input_code)\n",
    "# analysis3(dong_name = input_name, dong_code = input_code)\n",
    "analysis4(dong_name1 = input_name, dong_code1 = input_code)"
   ]
  },
  {
   "cell_type": "code",
   "execution_count": 14,
   "id": "0cabe7c6",
   "metadata": {},
   "outputs": [
    {
     "name": "stdout",
     "output_type": "stream",
     "text": [
      "핫플레이스는 언제 가야 가장 덜 붐빌까?\n",
      "핫플레이스가 위치한 행정동을 입력하세요 --> 여의동\n",
      "여의동 - 11560540 을(를) 분석합니다!\n",
      "1. 시간대별 평균인구는 어떻게 될까?\n",
      "2. 평일에 가야 할까, 주말에 가야 할까?\n",
      "3. 남자가 많을까, 여자가 많을까?\n",
      "4. 내가 익숙한 지역과 비교하면 얼마나 붐빌까?\n",
      "분석하고 싶은 내용의 번호를 입력해주세요 -->3\n"
     ]
    },
    {
     "data": {
      "image/png": "[encoded data removed]",
      "text/plain": [
       "<Figure size 432x288 with 1 Axes>"
      ]
     },
     "metadata": {
      "needs_background": "light"
     },
     "output_type": "display_data"
    }
   ],
   "source": [
    "# 필요한 파일 읽기\n",
    "data, code_data = file_open()\n",
    "\n",
    "print('핫플레이스는 언제 가야 가장 덜 붐빌까?')\n",
    "\n",
    "# 핫플레이스가 있는 행정동 입력받기\n",
    "input_name = input('핫플레이스가 위치한 행정동을 입력하세요 --> ')\n",
    "input_code = dong_search(input_name)\n",
    "\n",
    "print('1. 시간대별 평균인구는 어떻게 될까?')\n",
    "print('2. 평일에 가야 할까, 주말에 가야 할까?')\n",
    "print('3. 남자가 많을까, 여자가 많을까?')\n",
    "print('4. 내가 익숙한 지역과 비교하면 얼마나 붐빌까?')\n",
    "\n",
    "selection = int(input('분석하고 싶은 내용의 번호를 입력해주세요 -->'))\n",
    "if selection == 1: \n",
    "    analysis1(dong_name = input_name, dong_code = input_code)\n",
    "elif selection == 2: \n",
    "    analysis2(dong_name = input_name, dong_code = input_code)\n",
    "elif selection == 3: \n",
    "    analysis3(dong_name = input_name, dong_code = input_code)\n",
    "elif selection == 4: \n",
    "    analysis4(dong_name1 = input_name, dong_code1 = input_code)\n",
    "else: \n",
    "    print('잘못된 입력입니다.')\n"
   ]
  },
  {
   "cell_type": "code",
   "execution_count": 16,
   "id": "3d246ef3",
   "metadata": {},
   "outputs": [
    {
     "name": "stdout",
     "output_type": "stream",
     "text": [
      "9 x 1 = 9\n",
      "9 x 2 = 18\n",
      "9 x 3 = 27\n",
      "9 x 4 = 36\n",
      "9 x 5 = 45\n",
      "9 x 6 = 54\n",
      "9 x 7 = 63\n",
      "9 x 8 = 72\n",
      "9 x 9 = 81\n"
     ]
    }
   ],
   "source": [
    "def gugudan(num):\n",
    "    for i in range(1,10):\n",
    "        print(\"{} x {} = {}\".format(num,i,num*i))\n",
    "\n",
    "gugudan(9)"
   ]
  },
  {
   "cell_type": "code",
   "execution_count": 19,
   "id": "310add67",
   "metadata": {},
   "outputs": [
    {
     "name": "stdout",
     "output_type": "stream",
     "text": [
      "2단 -------\n",
      "2 x 1 = 2\n",
      "2 x 2 = 4\n",
      "2 x 3 = 6\n",
      "2 x 4 = 8\n",
      "2 x 5 = 10\n",
      "2 x 6 = 12\n",
      "2 x 7 = 14\n",
      "2 x 8 = 16\n",
      "2 x 9 = 18\n",
      "3단 -------\n",
      "3 x 1 = 3\n",
      "3 x 2 = 6\n",
      "3 x 3 = 9\n",
      "3 x 4 = 12\n",
      "3 x 5 = 15\n",
      "3 x 6 = 18\n",
      "3 x 7 = 21\n",
      "3 x 8 = 24\n",
      "3 x 9 = 27\n",
      "4단 -------\n",
      "4 x 1 = 4\n",
      "4 x 2 = 8\n",
      "4 x 3 = 12\n",
      "4 x 4 = 16\n",
      "4 x 5 = 20\n",
      "4 x 6 = 24\n",
      "4 x 7 = 28\n",
      "4 x 8 = 32\n",
      "4 x 9 = 36\n",
      "5단 -------\n",
      "5 x 1 = 5\n",
      "5 x 2 = 10\n",
      "5 x 3 = 15\n",
      "5 x 4 = 20\n",
      "5 x 5 = 25\n",
      "5 x 6 = 30\n",
      "5 x 7 = 35\n",
      "5 x 8 = 40\n",
      "5 x 9 = 45\n",
      "6단 -------\n",
      "6 x 1 = 6\n",
      "6 x 2 = 12\n",
      "6 x 3 = 18\n",
      "6 x 4 = 24\n",
      "6 x 5 = 30\n",
      "6 x 6 = 36\n",
      "6 x 7 = 42\n",
      "6 x 8 = 48\n",
      "6 x 9 = 54\n",
      "7단 -------\n",
      "7 x 1 = 7\n",
      "7 x 2 = 14\n",
      "7 x 3 = 21\n",
      "7 x 4 = 28\n",
      "7 x 5 = 35\n",
      "7 x 6 = 42\n",
      "7 x 7 = 49\n",
      "7 x 8 = 56\n",
      "7 x 9 = 63\n",
      "8단 -------\n",
      "8 x 1 = 8\n",
      "8 x 2 = 16\n",
      "8 x 3 = 24\n",
      "8 x 4 = 32\n",
      "8 x 5 = 40\n",
      "8 x 6 = 48\n",
      "8 x 7 = 56\n",
      "8 x 8 = 64\n",
      "8 x 9 = 72\n",
      "9단 -------\n",
      "9 x 1 = 9\n",
      "9 x 2 = 18\n",
      "9 x 3 = 27\n",
      "9 x 4 = 36\n",
      "9 x 5 = 45\n",
      "9 x 6 = 54\n",
      "9 x 7 = 63\n",
      "9 x 8 = 72\n",
      "9 x 9 = 81\n"
     ]
    }
   ],
   "source": [
    "for i in range(2,10):\n",
    "    print(\"{}단 -------\".format(i))\n",
    "    gugudan(i)"
   ]
  },
  {
   "cell_type": "code",
   "execution_count": 22,
   "id": "4dc9b6e7",
   "metadata": {},
   "outputs": [
    {
     "name": "stdout",
     "output_type": "stream",
     "text": [
      "점수 : 40\n",
      "등급 :  B\n"
     ]
    }
   ],
   "source": [
    "def cal_grade(score):\n",
    "    if score >= 80:\n",
    "        return 'A'\n",
    "    elif score >=40 and score <80:\n",
    "        return 'B'\n",
    "    elif score<40:\n",
    "        return 'C'\n",
    "    \n",
    "s=int(input('점수 : '))\n",
    "print('등급 : ',cal_grade(s))"
   ]
  }
 ],
 "metadata": {
  "kernelspec": {
   "display_name": "Python 3 (ipykernel)",
   "language": "python",
   "name": "python3"
  },
  "language_info": {
   "codemirror_mode": {
    "name": "ipython",
    "version": 3
   },
   "file_extension": ".py",
   "mimetype": "text/x-python",
   "name": "python",
   "nbconvert_exporter": "python",
   "pygments_lexer": "ipython3",
   "version": "3.9.7"
  }
 },
 "nbformat": 4,
 "nbformat_minor": 5
}
