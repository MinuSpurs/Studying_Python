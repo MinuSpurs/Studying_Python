{
 "cells": [
  {
   "cell_type": "code",
   "execution_count": 4,
   "id": "a15fc5fb",
   "metadata": {},
   "outputs": [
    {
     "name": "stdout",
     "output_type": "stream",
     "text": [
      "제임스 키는 186 , 나이는 24 , 취미는  요리하기 입니다!\n",
      "제임스 키는 186 나이는 24 취미는 요리하기입니다!\n"
     ]
    }
   ],
   "source": [
    "name='제임스'\n",
    "height=186\n",
    "age=24\n",
    "hobby='요리하기'\n",
    "print(name, '키는', height, ', 나이는',age, ', 취미는 ',hobby,'입니다!')\n",
    "print('{} 키는 {} 나이는 {} 취미는 {}입니다!' .format(name,height,age,hobby))"
   ]
  },
  {
   "cell_type": "code",
   "execution_count": 7,
   "id": "290b4c9d",
   "metadata": {},
   "outputs": [
    {
     "name": "stdout",
     "output_type": "stream",
     "text": [
      "반지름은? 999\n",
      "원의 넓이 = 3135311.9575920003, 원의 둘레 = 6276.900816, 구의 겉넓이 = 12541247.830368001\n"
     ]
    }
   ],
   "source": [
    "p=3.141592\n",
    "r=int(input('반지름은? '))\n",
    "\n",
    "result1 =  p*r**2\n",
    "result2 = 2*p*r\n",
    "result3 = 4*p*r**2\n",
    "\n",
    "print('원의 넓이 = {}, 원의 둘레 = {}, 구의 겉넓이 = {}'.format(result1, result2, result3))"
   ]
  },
  {
   "cell_type": "code",
   "execution_count": 9,
   "id": "bb47aa06",
   "metadata": {},
   "outputs": [
    {
     "name": "stdout",
     "output_type": "stream",
     "text": [
      "이름 : 고라니\n",
      "나이 : 4\n",
      "특징 : 애교가 많은 편\n",
      "고라니(4) 애교가 많은 편\n",
      "애교가 많은 편인 고라니\n"
     ]
    }
   ],
   "source": [
    "name = input('이름 : ')\n",
    "age = input('나이 : ')\n",
    "cha = input('특징 : ')\n",
    "\n",
    "print('{}({}) {}'.format(name,age,cha))\n",
    "print('{}인 {}'.format(cha,name))"
   ]
  },
  {
   "cell_type": "code",
   "execution_count": 18,
   "id": "dc966473",
   "metadata": {},
   "outputs": [
    {
     "name": "stdout",
     "output_type": "stream",
     "text": [
      "2017 - 175.5cm\n",
      "2018 - 185.5cm\n",
      "2019 - 195.5cm\n",
      "2020 - 205.5cm\n"
     ]
    }
   ],
   "source": [
    "year=2017\n",
    "height=175.5\n",
    "\n",
    "\n",
    "print('{} - {}cm'.format(year, height))\n",
    "year+=1\n",
    "height+=10\n",
    "print('{} - {}cm'.format(year, height))\n",
    "year+=1\n",
    "height+=10\n",
    "print('{} - {}cm'.format(year, height))\n",
    "year+=1\n",
    "height+=10\n",
    "print('{} - {}cm'.format(year, height))"
   ]
  },
  {
   "cell_type": "code",
   "execution_count": 19,
   "id": "26ba1049",
   "metadata": {},
   "outputs": [
    {
     "name": "stdout",
     "output_type": "stream",
     "text": [
      "<class 'int'>\n"
     ]
    }
   ],
   "source": [
    "year=2016\n",
    "print(type(year))"
   ]
  },
  {
   "cell_type": "code",
   "execution_count": 26,
   "id": "5ae378db",
   "metadata": {},
   "outputs": [
    {
     "name": "stdout",
     "output_type": "stream",
     "text": [
      "과자를 몇 개 구매하시겠습니까?3\n",
      "라면을 몇 개 구매하시겠습니까?5\n",
      "햄을 몇 개 구매하시겠습니까?2\n",
      "할인 전 금액: 12400, 할인 후 금액: 9300\n"
     ]
    }
   ],
   "source": [
    "c_price=1200\n",
    "ra_price=800\n",
    "h_price=2400\n",
    "c=int(input('과자를 몇 개 구매하시겠습니까?'))\n",
    "ra=int(input('라면을 몇 개 구매하시겠습니까?'))\n",
    "h=int(input('햄을 몇 개 구매하시겠습니까?'))\n",
    "price=c_price*c+ra_price*ra+h_price*h\n",
    "sale=int(price*0.75)\n",
    "print('할인 전 금액: {}, 할인 후 금액: {}'.format(price,sale))"
   ]
  },
  {
   "cell_type": "code",
   "execution_count": 28,
   "id": "d4df2150",
   "metadata": {},
   "outputs": [
    {
     "name": "stdout",
     "output_type": "stream",
     "text": [
      "숫자1 입력: 12\n",
      "숫자2 입력: 4\n",
      "두 수를 더한 값: 16\n",
      "두 수를 뺀 값: 8\n",
      "두 수를 곱한 값: 48\n",
      "두 수를 나눈 값: 3.0\n"
     ]
    }
   ],
   "source": [
    "n1=int(input('숫자1 입력: '))\n",
    "n2=int(input('숫자2 입력: '))\n",
    "plus=n1+n2\n",
    "minus=n1-n2\n",
    "mult=n1*n2\n",
    "by=n1/n2\n",
    "print('두 수를 더한 값: {}'.format(plus))\n",
    "print('두 수를 뺀 값: {}'.format(minus))\n",
    "print('두 수를 곱한 값: {}'.format(mult))\n",
    "print('두 수를 나눈 값: {}'.format(by))"
   ]
  },
  {
   "cell_type": "code",
   "execution_count": 29,
   "id": "f41ab3a6",
   "metadata": {},
   "outputs": [
    {
     "name": "stdout",
     "output_type": "stream",
     "text": [
      "당신은 누구입니까? 전설\n",
      "나는 전설이다.\n"
     ]
    }
   ],
   "source": [
    "name = input('당신은 누구입니까? ')\n",
    "print('나는 {}이다.'.format(name))"
   ]
  },
  {
   "cell_type": "code",
   "execution_count": 31,
   "id": "08297969",
   "metadata": {},
   "outputs": [
    {
     "name": "stdout",
     "output_type": "stream",
     "text": [
      "아이디 입력: minwoo\n",
      "이름 입력: 민우\n",
      "민우 님! 회원가입을 환영합니다!\n",
      "minwoo 님에게 지금 즉시 사용 가능한 쿠폰 5개 발급!\n",
      "minwoo님에게만 적립금 2000원 추가 지급!\n"
     ]
    }
   ],
   "source": [
    "idd=input('아이디 입력: ')\n",
    "name=input('이름 입력: ')\n",
    "\n",
    "print('{} 님! 회원가입을 환영합니다!'.format(name))\n",
    "print('{} 님에게 지금 즉시 사용 가능한 쿠폰 5개 발급!'.format(idd))\n",
    "print('{} 님에게만 적립금 2000원 추가 지급!'.format(idd))"
   ]
  },
  {
   "cell_type": "code",
   "execution_count": 32,
   "id": "c9ddef79",
   "metadata": {},
   "outputs": [
    {
     "name": "stdout",
     "output_type": "stream",
     "text": [
      "국어 점수는? 80\n",
      "수학 점수는? 60\n",
      "영어 점수는? 93\n",
      "최종 점수는 54.59 입니다!\n"
     ]
    }
   ],
   "source": [
    "kor=int(input('국어 점수는? '))\n",
    "math=int(input('수학 점수는? '))\n",
    "eng=int(input('영어 점수는? '))\n",
    "fin=kor*0.16+math*0.34+eng*0.23\n",
    "\n",
    "print('최종 점수는 {} 입니다!'.format(fin))"
   ]
  }
 ],
 "metadata": {
  "kernelspec": {
   "display_name": "Python 3",
   "language": "python",
   "name": "python3"
  },
  "language_info": {
   "codemirror_mode": {
    "name": "ipython",
    "version": 3
   },
   "file_extension": ".py",
   "mimetype": "text/x-python",
   "name": "python",
   "nbconvert_exporter": "python",
   "pygments_lexer": "ipython3",
   "version": "3.8.8"
  }
 },
 "nbformat": 4,
 "nbformat_minor": 5
}
