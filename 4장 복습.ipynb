{
 "cells": [
  {
   "cell_type": "code",
   "execution_count": 3,
   "id": "e393d2c7",
   "metadata": {},
   "outputs": [
    {
     "name": "stdout",
     "output_type": "stream",
     "text": [
      "나이 : 16\n",
      "미성년자는 주류를 구매할 수 없습니다.\n",
      "4년 후에 성인이 되면 오세요!\n"
     ]
    }
   ],
   "source": [
    "age=int(input('나이 : '))\n",
    "if age<20:\n",
    "    print('미성년자는 주류를 구매할 수 없습니다.')\n",
    "    print('{}년 후에 성인이 되면 오세요!'.format(20-age))"
   ]
  },
  {
   "cell_type": "code",
   "execution_count": 7,
   "id": "9c91e19e",
   "metadata": {},
   "outputs": [
    {
     "name": "stdout",
     "output_type": "stream",
     "text": [
      "가격 : 54000\n"
     ]
    }
   ],
   "source": [
    "price=int(input('가격 : '))\n",
    "if price<50000:\n",
    "    print('배송비 2500원이 추가됩니다. 총 가격은 {}입니다.'.format(price+2500))"
   ]
  },
  {
   "cell_type": "code",
   "execution_count": 11,
   "id": "757c179e",
   "metadata": {},
   "outputs": [
    {
     "name": "stdout",
     "output_type": "stream",
     "text": [
      "주중 또는 주말입력 : 주중\n",
      "아침 7시입니다!\n"
     ]
    }
   ],
   "source": [
    "day=input('주중 또는 주말입력 : ')\n",
    "\n",
    "if day =='주중':\n",
    "    print('아침 7시입니다!')\n",
    "if day =='주말':\n",
    "    print('아침 10시입니다!')"
   ]
  },
  {
   "cell_type": "code",
   "execution_count": 15,
   "id": "671de716",
   "metadata": {},
   "outputs": [
    {
     "name": "stdout",
     "output_type": "stream",
     "text": [
      "며칠 : 0\n",
      "짝수번호 차량만 가능\n"
     ]
    }
   ],
   "source": [
    "day=int(input('며칠 : '))\n",
    "\n",
    "if day%2==0:\n",
    "    print('짝수번호 차량만 가능')\n",
    "else:\n",
    "    print('홀수번호 차량만 가능')"
   ]
  },
  {
   "cell_type": "code",
   "execution_count": 24,
   "id": "6fd3605e",
   "metadata": {},
   "outputs": [
    {
     "name": "stdout",
     "output_type": "stream",
     "text": [
      "나이 : 6\n",
      "입장료는 6000원 입니다.\n",
      "투입한 금액 : 25000\n",
      "거스름돈은 19000입니다.\n"
     ]
    }
   ],
   "source": [
    "age=int(input('나이 : '))\n",
    "\n",
    "if age<20:\n",
    "    print('입장료는 6000원 입니다.')\n",
    "    price=6000\n",
    "else:\n",
    "    print('입장료는 15000원 입니다.')\n",
    "    price=15000\n",
    "    \n",
    "money = int(input('투입한 금액 : '))\n",
    "if money>price:\n",
    "    print('거스름돈은 {}입니다.'.format(money-price))\n",
    "elif money==price:\n",
    "    print('가격이 정확합니다.')\n",
    "else:\n",
    "    print('{}원이 모자랍니다.'.format(price-money))"
   ]
  },
  {
   "cell_type": "code",
   "execution_count": 12,
   "id": "63682c14",
   "metadata": {},
   "outputs": [
    {
     "name": "stdout",
     "output_type": "stream",
     "text": [
      "구매금액 : 45000\n",
      "배송비 2500 추가\n",
      "총 주문 금액 : 47500\n"
     ]
    }
   ],
   "source": [
    "price=int(input('구매금액 : '))\n",
    "\n",
    "if price<20000:\n",
    "    print('주문 금액이 부족합니다.')\n",
    "elif price<50000:\n",
    "    print('배송비 2500 추가')\n",
    "    price+=2500\n",
    "else:\n",
    "    print('무료배송')\n",
    "\n",
    "print('총 주문 금액 : {}'.format(price))"
   ]
  },
  {
   "cell_type": "code",
   "execution_count": 16,
   "id": "cd18f8f2",
   "metadata": {},
   "outputs": [
    {
     "name": "stdout",
     "output_type": "stream",
     "text": [
      "날짜 입력 : 30\n",
      "짝수차량 가능\n"
     ]
    }
   ],
   "source": [
    "date=int(input('날짜 입력 : '))\n",
    "\n",
    "if date<=31:\n",
    "    if date%2==0:\n",
    "        print('짝수차량 가능')\n",
    "    else:\n",
    "        print('홀수 차량 가능')\n",
    "else:\n",
    "    print('날짜 오류')"
   ]
  },
  {
   "cell_type": "code",
   "execution_count": 25,
   "id": "4ad4cfc4",
   "metadata": {},
   "outputs": [
    {
     "name": "stdout",
     "output_type": "stream",
     "text": [
      "구매금액 : 120000\n",
      "동의(Y/N)? N\n",
      "사은품 지급 대상 아님\n"
     ]
    }
   ],
   "source": [
    "price=int(input('구매금액 : '))\n",
    "market=input('동의(Y/N)? ')\n",
    "\n",
    "if price>=100000:\n",
    "    if market=='Y':\n",
    "        print('사은품 지급 대상')\n",
    "    else:\n",
    "        print('사은품 지급 대상 아님')\n",
    "else:\n",
    "    print('사은품 지급 대상 아님')"
   ]
  },
  {
   "cell_type": "code",
   "execution_count": 28,
   "id": "022342ac",
   "metadata": {},
   "outputs": [
    {
     "name": "stdout",
     "output_type": "stream",
     "text": [
      "구매금액 : 450000\n",
      "동의(Y/N)? N\n",
      "무료 주차 대상\n"
     ]
    }
   ],
   "source": [
    "price=int(input('구매금액 : '))\n",
    "market=input('동의(Y/N)? ')\n",
    "\n",
    "if price>=100000 or market=='Y':\n",
    "    print('무료 주차 대상')\n",
    "else:\n",
    "    print('무료주차 대상 아님')"
   ]
  },
  {
   "cell_type": "code",
   "execution_count": 30,
   "id": "62bfbd4c",
   "metadata": {},
   "outputs": [
    {
     "name": "stdout",
     "output_type": "stream",
     "text": [
      "기침 있음?(Y/N) N\n",
      "체온 : 38.6\n",
      "독감 아님\n"
     ]
    }
   ],
   "source": [
    "cough=input('기침 있음?(Y/N) ')\n",
    "temp=float(input('체온 : '))\n",
    "\n",
    "if cough=='Y' and temp>=38.5:\n",
    "    print('독감일 수 있음')\n",
    "else:\n",
    "    print('독감 아님')"
   ]
  },
  {
   "cell_type": "code",
   "execution_count": 35,
   "id": "7f4d80fc",
   "metadata": {},
   "outputs": [
    {
     "name": "stdout",
     "output_type": "stream",
     "text": [
      "메뉴 입력: 라면\n",
      "기본라면, 떡라면, 만두라면\n"
     ]
    }
   ],
   "source": [
    "menu=input('메뉴 입력: ')\n",
    "\n",
    "if menu=='김밥':\n",
    "    print('야채김밥(2500), 참치김밥(3500)')\n",
    "elif menu=='라면':\n",
    "    print('기본라면, 떡라면, 만두라면')\n",
    "else:\n",
    "    print('올바른 메뉴 입력')"
   ]
  },
  {
   "cell_type": "code",
   "execution_count": 53,
   "id": "30a20d12",
   "metadata": {},
   "outputs": [
    {
     "name": "stdout",
     "output_type": "stream",
     "text": [
      "점수 입력 : -1\n",
      "다시 입력\n"
     ]
    }
   ],
   "source": [
    "score=int(input('점수 입력 : '))\n",
    "\n",
    "if score>100 or score<0:\n",
    "    print('다시 입력')\n",
    "elif score>=80:\n",
    "    print('A')\n",
    "elif score>40:\n",
    "    print('B')\n",
    "elif score>0:\n",
    "    print('C')\n"
   ]
  }
 ],
 "metadata": {
  "kernelspec": {
   "display_name": "Python 3",
   "language": "python",
   "name": "python3"
  },
  "language_info": {
   "codemirror_mode": {
    "name": "ipython",
    "version": 3
   },
   "file_extension": ".py",
   "mimetype": "text/x-python",
   "name": "python",
   "nbconvert_exporter": "python",
   "pygments_lexer": "ipython3",
   "version": "3.8.8"
  }
 },
 "nbformat": 4,
 "nbformat_minor": 5
}
