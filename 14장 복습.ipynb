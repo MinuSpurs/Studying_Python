{
 "cells": [
  {
   "cell_type": "code",
   "execution_count": 10,
   "id": "e74c5b02",
   "metadata": {},
   "outputs": [],
   "source": [
    "class Character:\n",
    "    def hi(self):\n",
    "        print('안녕하세요.')"
   ]
  },
  {
   "cell_type": "code",
   "execution_count": 12,
   "id": "04884986",
   "metadata": {},
   "outputs": [],
   "source": [
    "swordsman = Character()"
   ]
  },
  {
   "cell_type": "code",
   "execution_count": 6,
   "id": "dc6f7b05",
   "metadata": {},
   "outputs": [
    {
     "name": "stdout",
     "output_type": "stream",
     "text": [
      "<class '__main__.Character'>\n"
     ]
    }
   ],
   "source": [
    "print(type(swordsman))"
   ]
  },
  {
   "cell_type": "code",
   "execution_count": 8,
   "id": "a096c7f6",
   "metadata": {},
   "outputs": [],
   "source": [
    "fairy = Character()\n",
    "thief = Character()"
   ]
  },
  {
   "cell_type": "code",
   "execution_count": 14,
   "id": "1a9b7c76",
   "metadata": {},
   "outputs": [
    {
     "name": "stdout",
     "output_type": "stream",
     "text": [
      "안녕하세요.\n"
     ]
    }
   ],
   "source": [
    "swordsman.hi()"
   ]
  },
  {
   "cell_type": "code",
   "execution_count": 16,
   "id": "097fe669",
   "metadata": {},
   "outputs": [
    {
     "name": "stdout",
     "output_type": "stream",
     "text": [
      "안녕! 난 검술사\n",
      "안녕! 난 요정\n",
      "안녕! 난 도적\n"
     ]
    }
   ],
   "source": [
    "class Character:\n",
    "    def hi(self, name):\n",
    "        print('안녕! 난 {}'.format(name))\n",
    "        \n",
    "swordsman = Character()\n",
    "swordsman.hi('검술사')\n",
    "fairy = Character()\n",
    "fairy.hi('요정')\n",
    "thief = Character()\n",
    "thief.hi('도적')"
   ]
  },
  {
   "cell_type": "code",
   "execution_count": 19,
   "id": "9b0c92da",
   "metadata": {},
   "outputs": [
    {
     "name": "stdout",
     "output_type": "stream",
     "text": [
      "안녕! 난 검술사\n",
      "도적 을/를 공격합니다\n",
      "요정 을/를 공격합니다\n"
     ]
    }
   ],
   "source": [
    "class Character:\n",
    "    def hi(self, name):\n",
    "        print('안녕! 난 {}'.format(name))\n",
    "    def attack(self, target):\n",
    "        print('{} 을/를 공격합니다'.format(target))\n",
    "        \n",
    "swordsman = Character()\n",
    "swordsman.hi('검술사')\n",
    "swordsman.attack('도적')\n",
    "swordsman.attack('요정')"
   ]
  },
  {
   "cell_type": "code",
   "execution_count": 23,
   "id": "a10fe001",
   "metadata": {},
   "outputs": [],
   "source": [
    "class Character:\n",
    "    def __init__(self,name,hp,ad):\n",
    "        self.name = name\n",
    "        self.strength = hp\n",
    "        self.attack_damage=ad\n",
    "        print('Character 클래스의 객체 생성 => {}'.format(self.name))\n",
    "    def attack(self, target):\n",
    "        print('{} 을/를 공격합니다'.format(target))"
   ]
  },
  {
   "cell_type": "code",
   "execution_count": 26,
   "id": "7ad8dd4a",
   "metadata": {},
   "outputs": [
    {
     "name": "stdout",
     "output_type": "stream",
     "text": [
      "Character 클래스의 객체 생성 => 검술사\n",
      "검술사 100 10\n"
     ]
    }
   ],
   "source": [
    "swordsman = Character('검술사',100, 10 )\n",
    "\n",
    "print(swordsman.name,swordsman.strength, swordsman.attack_damage)"
   ]
  },
  {
   "cell_type": "code",
   "execution_count": 2,
   "id": "3a0928fe",
   "metadata": {},
   "outputs": [
    {
     "name": "stdout",
     "output_type": "stream",
     "text": [
      "Character 클래스의 객체 생성 => 검술사\n",
      "이름 => 검술사, 체력 => 100,  공격력 => 10\n",
      "Character 클래스의 객체 생성 => 요정\n",
      "이름 => 요정, 체력 => 60,  공격력 => 5\n",
      "Character 클래스의 객체 생성 => 도적\n",
      "이름 => 도적, 체력 => 85,  공격력 => 8\n"
     ]
    }
   ],
   "source": [
    "class Character:\n",
    "    def __init__(self,name,hp,ad):\n",
    "        self.name = name\n",
    "        self.strength = hp\n",
    "        self.attack_damage=ad\n",
    "        print('Character 클래스의 객체 생성 => {}'.format(self.name))\n",
    "    def information(self):\n",
    "        print('이름 => {}, 체력 => {},  공격력 => {}'\n",
    "              .format(self.name,self.strength, self.attack_damage))\n",
    "    def attack(self, target):\n",
    "        print('{} 을/를 공격합니다'.format(target))\n",
    "        \n",
    "swordsman = Character('검술사',100, 10 )\n",
    "swordsman.information()\n",
    "fairy = Character('요정',60,5)\n",
    "fairy.information()\n",
    "thief = Character('도적',85,8)\n",
    "thief.information()"
   ]
  },
  {
   "cell_type": "code",
   "execution_count": 5,
   "id": "9f47d8aa",
   "metadata": {},
   "outputs": [
    {
     "name": "stdout",
     "output_type": "stream",
     "text": [
      "변경 전 -------------\n",
      "이름 => 검술사, 체력 => 120,  공격력 => 15\n",
      "변경 후 -------------\n",
      "이름 => 검술사, 체력 => 120,  공격력 => 15\n"
     ]
    }
   ],
   "source": [
    "print('변경 전 -------------')\n",
    "swordsman.information()\n",
    "\n",
    "swordsman.strength = 120\n",
    "swordsman.attack_damage = 15\n",
    "\n",
    "print('변경 후 -------------')\n",
    "swordsman.information()"
   ]
  },
  {
   "cell_type": "code",
   "execution_count": 16,
   "id": "6937e1e0",
   "metadata": {},
   "outputs": [
    {
     "name": "stdout",
     "output_type": "stream",
     "text": [
      "Character 클래스의 객체 생성 => 검술사\n",
      "Character 클래스의 객체 생성 => 요정\n",
      "Character 클래스의 객체 생성 => 도적\n",
      "검술사 이/가 요정 (60) 을/를 공격합니다.\n",
      "공격 성공! 요정 (50)\n"
     ]
    }
   ],
   "source": [
    "class Character:\n",
    "    def __init__(self,name,hp,ad):\n",
    "        self.name = name\n",
    "        self.strength = hp\n",
    "        self.attack_damage=ad\n",
    "        print('Character 클래스의 객체 생성 => {}'.format(self.name))\n",
    "    def information(self):\n",
    "        print('이름 => {}, 체력 => {},  공격력 => {}'\n",
    "              .format(self.name,self.strength, self.attack_damage))\n",
    "    def attack(self, target):\n",
    "        print('{} 이/가 {} ({}) 을/를 공격합니다.'\n",
    "             .format(self.name, target.name, target.strength))\n",
    "        target.strength -= self.attack_damage\n",
    "        print('공격 성공! {} ({})'.format(target.name,target.strength))\n",
    "    def level_up(self):\n",
    "        self.strength *= 1.2\n",
    "        self.attack_damage +=5\n",
    "     \n",
    "swordsman = Character('검술사',100, 10 )\n",
    "fairy = Character('요정',60,5)\n",
    "thief = Character('도적',85,8)\n",
    "\n",
    "swordsman.attack(fairy)"
   ]
  }
 ],
 "metadata": {
  "kernelspec": {
   "display_name": "Python 3 (ipykernel)",
   "language": "python",
   "name": "python3"
  },
  "language_info": {
   "codemirror_mode": {
    "name": "ipython",
    "version": 3
   },
   "file_extension": ".py",
   "mimetype": "text/x-python",
   "name": "python",
   "nbconvert_exporter": "python",
   "pygments_lexer": "ipython3",
   "version": "3.9.7"
  }
 },
 "nbformat": 4,
 "nbformat_minor": 5
}
