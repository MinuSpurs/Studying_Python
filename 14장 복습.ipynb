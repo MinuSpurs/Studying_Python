{
 "cells": [
  {
   "cell_type": "code",
   "execution_count": 10,
   "id": "e74c5b02",
   "metadata": {},
   "outputs": [],
   "source": [
    "class Character:\n",
    "    def hi(self):\n",
    "        print('안녕하세요.')"
   ]
  },
  {
   "cell_type": "code",{
 "cells": [
  {
   "cell_type": "code",
   "execution_count": 1,
   "id": "3b94a38a",
   "metadata": {},
   "outputs": [
    {
     "name": "stdout",
     "output_type": "stream",
     "text": [
      "Character 클래스의 객체 생성 => 검술사\n",
      "Character 클래스의 객체 생성 => 요정\n",
      "Character 클래스의 객체 생성 => 도적\n",
      "검술사 이/가 요정 (60) 을/를 공격합니다.\n",
      "공격 성공! 요정 (50)\n"
     ]
    }
   ],
   "source": [
    "class Character:\n",
    "    def __init__(self,name,hp,ad):\n",
    "        self.name = name\n",
    "        self.strength = hp\n",
    "        self.attack_damage=ad\n",
    "        print('Character 클래스의 객체 생성 => {}'.format(self.name))\n",
    "    def information(self):\n",
    "        print('이름 => {}, 체력 => {},  공격력 => {}'\n",
    "              .format(self.name,self.strength, self.attack_damage))\n",
    "    def attack(self, target):\n",
    "        print('{} 이/가 {} ({}) 을/를 공격합니다.'\n",
    "             .format(self.name, target.name, target.strength))\n",
    "        target.strength -= self.attack_damage\n",
    "        print('공격 성공! {} ({})'.format(target.name,target.strength))\n",
    "    def level_up(self):\n",
    "        self.strength *= 1.2\n",
    "        self.attack_damage +=5\n",
    "     \n",
    "swordsman = Character('검술사',100, 10 )\n",
    "fairy = Character('요정',60,5)\n",
    "thief = Character('도적',85,8)\n",
    "\n",
    "swordsman.attack(fairy)"
   ]
  },
  {
   "cell_type": "code",
   "execution_count": 3,
   "id": "cdf112d8",
   "metadata": {},
   "outputs": [
    {
     "name": "stdout",
     "output_type": "stream",
     "text": [
      "도적 이/가 검술사 (92) 을/를 공격합니다.\n",
      "공격 성공! 검술사 (84)\n",
      "요정 이/가 도적 (80) 을/를 공격합니다.\n",
      "공격 성공! 도적 (75)\n"
     ]
    }
   ],
   "source": [
    "thief.attack(swordsman)\n",
    "fairy.attack(thief)"
   ]
  },
  {
   "cell_type": "code",
   "execution_count": 5,
   "id": "b7c852ae",
   "metadata": {},
   "outputs": [
    {
     "name": "stdout",
     "output_type": "stream",
     "text": [
      "Character 클래스의 객체 생성 => 검술사\n",
      "현재 캐릭터 개수 = 1\n",
      "Character 클래스의 객체 생성 => 요정\n",
      "현재 캐릭터 개수 = 2\n",
      "Character 클래스의 객체 생성 => 도적\n",
      "현재 캐릭터 개수 = 3\n"
     ]
    }
   ],
   "source": [
    "class Character:\n",
    "    \n",
    "    total_Chracter_cnt = 0\n",
    "    \n",
    "    def __init__(self,name,hp,ad):\n",
    "        self.name = name\n",
    "        self.strength = hp\n",
    "        self.attack_damage=ad\n",
    "        print('Character 클래스의 객체 생성 => {}'.format(self.name))\n",
    "        Character.total_Chracter_cnt += 1\n",
    "        print('현재 캐릭터 개수 = {}'.format(Character.total_Chracter_cnt))\n",
    "    def information(self):\n",
    "        print('이름 => {}, 체력 => {},  공격력 => {}'\n",
    "              .format(self.name,self.strength, self.attack_damage))\n",
    "    def attack(self, target):\n",
    "        print('{} 이/가 {} ({}) 을/를 공격합니다.'\n",
    "             .format(self.name, target.name, target.strength))\n",
    "        target.strength -= self.attack_damage\n",
    "        print('공격 성공! {} ({})'.format(target.name,target.strength))\n",
    "    def level_up(self):\n",
    "        self.strength *= 1.2\n",
    "        self.attack_damage +=5\n",
    "        \n",
    "swordsman=Character('검술사',100,10)\n",
    "fairy = Character('요정',60,5)\n",
    "thief=Character('도적',85,8)"
   ]
  },
  {
   "cell_type": "code",
   "execution_count": 13,
   "id": "3456f33b",
   "metadata": {},
   "outputs": [],
   "source": [
    "class Product:\n",
    "    def __init__(self,n,p,s):\n",
    "        self.name,self.price,self.stock = n,p,s\n",
    "    \n",
    "    def information(self):\n",
    "        print('상품 이름 : {}'.format(self.name))\n",
    "        print('상품 가격 : {}'.format(self.price))\n",
    "        print('재고 수량 : {}'.format(self.stock))\n",
    "        \n",
    "class Member:\n",
    "    def __init__(self,n,d):\n",
    "        self.name, self.join_data = n,d\n",
    "        self.purchase_list=[]\n",
    "        self.purchase_amount=0\n",
    "    def information(self):\n",
    "        print('회원이름 : {}'.format(self.name))\n",
    "        print('가입날짜 : {}'.format(self.join_data))\n",
    "        print('구매내역 : {}'.format(self.purchase_list))\n",
    "        print('누적 구매금액 : {}'.format(self.purchase_amount))\n",
    "    def buy(self,product,count):\n",
    "        print('{} 고객님이 {} {} 개 구매 !'.format(self.name,product.name,count))\n",
    "        product.stock -=count\n",
    "        self.purchase_list.append(product.name)\n",
    "        self.purchase_amount+=count*product.price"
   ]
  },
  {
   "cell_type": "code",
   "execution_count": 14,
   "id": "dd444f2f",
   "metadata": {},
   "outputs": [],
   "source": [
    "socks = Product('socks',1000,10)\n",
    "books = Product('books',17500,15)\n",
    "\n",
    "Anna = Member('Anna','20200420')\n",
    "Grace = Member('Grace','20200130')"
   ]
  },
  {
   "cell_type": "code",
   "execution_count": 15,
   "id": "fddef596",
   "metadata": {},
   "outputs": [
    {
     "name": "stdout",
     "output_type": "stream",
     "text": [
      "Anna 고객님이 socks 1 개 구매 !\n"
     ]
    }
   ],
   "source": [
    "Anna.buy(socks,1)"
   ]
  },
  {
   "cell_type": "code",
   "execution_count": 17,
   "id": "cfd8df07",
   "metadata": {},
   "outputs": [
    {
     "name": "stdout",
     "output_type": "stream",
     "text": [
      "회원이름 : Anna\n",
      "가입날짜 : 20200420\n",
      "구매내역 : ['socks']\n",
      "누적 구매금액 : 1000\n"
     ]
    }
   ],
   "source": [
    "Anna.information()"
   ]
  },
  {
   "cell_type": "code",
   "execution_count": 19,
   "id": "5dccb7d5",
   "metadata": {},
   "outputs": [
    {
     "name": "stdout",
     "output_type": "stream",
     "text": [
      "상품 이름 : socks\n",
      "상품 가격 : 1000\n",
      "재고 수량 : 9\n"
     ]
    }
   ],
   "source": [
    "socks.information()"
   ]
  },
  {
   "cell_type": "code",
   "execution_count": 21,
   "id": "dfac7e3e",
   "metadata": {},
   "outputs": [
    {
     "name": "stdout",
     "output_type": "stream",
     "text": [
      "Grace 고객님이 books 2 개 구매 !\n",
      "상품 이름 : books\n",
      "상품 가격 : 17500\n",
      "재고 수량 : 11\n"
     ]
    }
   ],
   "source": [
    "Grace.buy(books,2)\n",
    "books.information()"
   ]
  },
  {
   "cell_type": "code",
   "execution_count": 22,
   "id": "60ed8510",
   "metadata": {},
   "outputs": [
    {
     "name": "stdout",
     "output_type": "stream",
     "text": [
      "회원이름 : Grace\n",
      "가입날짜 : 20200130\n",
      "구매내역 : ['books', 'books']\n",
      "누적 구매금액 : 70000\n"
     ]
    }
   ],
   "source": [
    "Grace.information()"
   ]
  },
  {
   "cell_type": "code",
   "execution_count": 25,
   "id": "3451c83d",
   "metadata": {},
   "outputs": [
    {
     "name": "stdout",
     "output_type": "stream",
     "text": [
      "Anna 고객님이 pen 5 개 구매 !\n"
     ]
    }
   ],
   "source": [
    "pen = Product('pen',1200,25)\n",
    "Anna.buy(pen,5)"
   ]
  },
  {
   "cell_type": "code",
   "execution_count": 26,
   "id": "840915b5",
   "metadata": {},
   "outputs": [
    {
     "name": "stdout",
     "output_type": "stream",
     "text": [
      "회원이름 : Anna\n",
      "가입날짜 : 20200420\n",
      "구매내역 : ['socks', 'pen', 'pen']\n",
      "누적 구매금액 : 13000\n"
     ]
    }
   ],
   "source": [
    "Anna.information()"
   ]
  },
  {
   "cell_type": "code",
   "execution_count": 2,
   "id": "ea68e00f",
   "metadata": {},
   "outputs": [],
   "source": [
    "import matplotlib.pyplot as plt\n",
    "import datetime\n",
    "\n",
    "class Hotplace:\n",
    "    def __init__(self, dong_name,dong_code):\n",
    "        self.name = dong_name\n",
    "        self.code = dong_code\n",
    "    \n",
    "    def graph_plot(self, popu_list, label_list, graph_title):\n",
    "        plt.rc('font', family='Malgun Gothic')\n",
    "        plt.title(graph_title)\n",
    "        for i in range(len(popu_list)): \n",
    "            plt.plot(range(24), popu_list[i], label=label_list[i])\n",
    "        plt.legend()\n",
    "        plt.xlabel('시간대')\n",
    "        plt.ylabel('평균인구수')\n",
    "        plt.xticks(range(24), range(24))\n",
    "        plt.show()\n",
    "    \n",
    "    def analysis2(self, dong_name, dong_code): \n",
    "    # 4.1 입력된 행정동의 주중/주말 시간대별 평균인구 구하기\n",
    "        weekday = [0 for i in range(24)]\n",
    "        weekend = [0 for i in range(24)]\n",
    "\n",
    "        for row in data: \n",
    "            if row[2] == self.code: \n",
    "                time, p = row[1], row[3]\n",
    "                year, mon, day = int(row[0][:4]), int(row[0][4:6]), int(row[0][6:])\n",
    "                num = datetime.date(year, mon, day).weekday()\n",
    "                if num < 5: \n",
    "                    weekday[time] += p\n",
    "                else: \n",
    "                    weekend[time] += p\n",
    "\n",
    "        weekday_cnt, weekend_cnt = 0, 0\n",
    "        for i in range(1, 32): \n",
    "            if datetime.date(2019,12,i).weekday() < 5:\n",
    "                weekday_cnt += 1\n",
    "            else: \n",
    "                weekend_cnt += 1\n",
    "\n",
    "        weekday = [w/weekday_cnt for w in weekday]\n",
    "        weekend = [w/weekend_cnt for w in weekend]\n",
    "\n",
    "        # 4.2 4.1에서 구한 평균인구 리스트로 꺾은선 그래프 그리기 \n",
    "        data_set = [weekday, weekend]\n",
    "        labels = ['주중', '주말']\n",
    "        title = self.name + ' 주중/주말 시간대별 평균인구'\n",
    "        self.graph_plot(popu_list = data_set, label_list = labels, graph_title = title)\n",
    "    \n",
    "    def analysis3(self): \n",
    "        # 5.1 입력된 행정동의 남/녀 시간대별 평균인구 구하기\n",
    "        male = [0 for i in range(24)]\n",
    "        female = [0 for i in range(24)]\n",
    "\n",
    "        for row in data: \n",
    "            if row[2] == self.code: \n",
    "                time = int(row[1])\n",
    "                male[time] += sum(row[4:18])\n",
    "                female[time] += sum(row[18:32])\n",
    "        male = [m/31 for m in male]\n",
    "        female = [f/31 for f in female]\n",
    "\n",
    "        # 5.2 5.1에서 구한 평균인구 리스트로 꺾은선 그래프 그리기\n",
    "        data_set = [male, female]\n",
    "        labels = ['남성', '여성']\n",
    "        title = self.name + ' 남녀 시간대별 평균인구'\n",
    "        self.graph_plot(popu_list = data_set, label_list = labels, graph_title = title)\n",
    "\n",
    "    def analysis1(self, dong_name, dong_code, graph_yn = 'y'):\n",
    "        population = [0 for i in range(24)]\n",
    "        for row in data: \n",
    "            if row[2] == dong_code: \n",
    "                time, p = row[1], row[3]\n",
    "                population[time] += p\n",
    "        population = [p/31 for p in population]\n",
    "\n",
    "        # 그래프를 그리지 않는 경우 인구 리스트만 반환하고 종료 \n",
    "        if graph_yn == 'n': \n",
    "            return population\n",
    "\n",
    "        population = [population]\n",
    "        labels = ['평균인구']\n",
    "        title = dong_name + ' 시간대별 평균인구'\n",
    "        self.graph_plot(popu_list = population, label_list = labels, graph_title = title)\n",
    "\n",
    "    def analysis4(self, dong_name2, dong_code2):\n",
    "        # 6.2 두 지역의 시간대별 평균인구 구하기\n",
    "        population1 = self.analysis1(dong_name = self.name,\n",
    "                                     dong_code = self.code, graph_yn = 'n')\n",
    "        population2 = self.analysis1(dong_name = dong_name2,\n",
    "                                     dong_code = dong_code2, graph_yn = 'n') \n",
    "\n",
    "        # 6.3 6.2에서 구한 평균인구 리스트로 꺾은선 그래프 그리기\n",
    "        data_set = [population1, population2]\n",
    "        labels = [self.name, dong_name2]\n",
    "        title = self.name + '과' + dong_name2 + ' 시간대별 평균인구'\n",
    "        self.graph_plot(popu_list = data_set, label_list = labels, graph_title = title)"
   ]
  },
  {
   "cell_type": "code",
   "execution_count": 3,
   "id": "708c55fe",
   "metadata": {},
   "outputs": [],
   "source": [
    "import csv\n",
    "\n",
    "def file_open():\n",
    "    f = open('LOCAL_PEOPLE_DONG_202112.csv', encoding = 'utf8')\n",
    "    data = csv.reader(f)\n",
    "    next(data)\n",
    "    data = list(data)\n",
    "    \n",
    "    f2 = open('dong_code.csv', encoding = 'utf8')\n",
    "    code_data = csv.reader(f2)\n",
    "    next(code_data)\n",
    "    next(code_data)\n",
    "    code_data = list(code_data)\n",
    "    \n",
    "    for row in data: \n",
    "        for i in range(1, 32): \n",
    "            if i <= 2:\n",
    "                row[i] = int(row[i])\n",
    "            else:\n",
    "                row[i] = float(row[i])\n",
    "\n",
    "    for row in code_data: \n",
    "        row[1] = int(row[1])\n",
    "        \n",
    "    return data,code_data\n",
    "\n",
    "def dong_search(dong_name) : \n",
    "    for row in code_data: \n",
    "        if row[-1] == dong_name: \n",
    "            code = row[1]\n",
    "    print(dong_name, '-',code, '을(를) 분석합니다!')\n",
    "    \n",
    "    return code"
   ]
  },
  {
   "cell_type": "code",
   "execution_count": 5,
   "id": "f69fb31b",
   "metadata": {},
   "outputs": [
    {
     "ename": "FileNotFoundError",
     "evalue": "[Errno 2] No such file or directory: 'LOCAL_PEOPLE_DONG_202112.csv'",
     "output_type": "error",
     "traceback": [
      "\u001b[1;31m---------------------------------------------------------------------------\u001b[0m",
      "\u001b[1;31mFileNotFoundError\u001b[0m                         Traceback (most recent call last)",
      "\u001b[1;32m<ipython-input-5-e9c07772bedd>\u001b[0m in \u001b[0;36m<module>\u001b[1;34m\u001b[0m\n\u001b[1;32m----> 1\u001b[1;33m \u001b[0mdata\u001b[0m\u001b[1;33m,\u001b[0m \u001b[0mcode_data\u001b[0m \u001b[1;33m=\u001b[0m \u001b[0mfile_open\u001b[0m\u001b[1;33m(\u001b[0m\u001b[1;33m)\u001b[0m\u001b[1;33m\u001b[0m\u001b[1;33m\u001b[0m\u001b[0m\n\u001b[0m\u001b[0;32m      2\u001b[0m \u001b[1;33m\u001b[0m\u001b[0m\n\u001b[0;32m      3\u001b[0m \u001b[0minput_name1\u001b[0m \u001b[1;33m=\u001b[0m \u001b[0minput\u001b[0m\u001b[1;33m(\u001b[0m\u001b[1;34m'핫플레이스가 위치한 행정동을 입력하세요 --> '\u001b[0m\u001b[1;33m)\u001b[0m\u001b[1;33m\u001b[0m\u001b[1;33m\u001b[0m\u001b[0m\n\u001b[0;32m      4\u001b[0m \u001b[0minput_code1\u001b[0m \u001b[1;33m=\u001b[0m \u001b[0mdong_search\u001b[0m\u001b[1;33m(\u001b[0m\u001b[0minput_name1\u001b[0m\u001b[1;33m)\u001b[0m\u001b[1;33m\u001b[0m\u001b[1;33m\u001b[0m\u001b[0m\n",
      "\u001b[1;32m<ipython-input-3-09c013a3debc>\u001b[0m in \u001b[0;36mfile_open\u001b[1;34m()\u001b[0m\n\u001b[0;32m      2\u001b[0m \u001b[1;33m\u001b[0m\u001b[0m\n\u001b[0;32m      3\u001b[0m \u001b[1;32mdef\u001b[0m \u001b[0mfile_open\u001b[0m\u001b[1;33m(\u001b[0m\u001b[1;33m)\u001b[0m\u001b[1;33m:\u001b[0m\u001b[1;33m\u001b[0m\u001b[1;33m\u001b[0m\u001b[0m\n\u001b[1;32m----> 4\u001b[1;33m     \u001b[0mf\u001b[0m \u001b[1;33m=\u001b[0m \u001b[0mopen\u001b[0m\u001b[1;33m(\u001b[0m\u001b[1;34m'LOCAL_PEOPLE_DONG_202112.csv'\u001b[0m\u001b[1;33m,\u001b[0m \u001b[0mencoding\u001b[0m \u001b[1;33m=\u001b[0m \u001b[1;34m'utf8'\u001b[0m\u001b[1;33m)\u001b[0m\u001b[1;33m\u001b[0m\u001b[1;33m\u001b[0m\u001b[0m\n\u001b[0m\u001b[0;32m      5\u001b[0m     \u001b[0mdata\u001b[0m \u001b[1;33m=\u001b[0m \u001b[0mcsv\u001b[0m\u001b[1;33m.\u001b[0m\u001b[0mreader\u001b[0m\u001b[1;33m(\u001b[0m\u001b[0mf\u001b[0m\u001b[1;33m)\u001b[0m\u001b[1;33m\u001b[0m\u001b[1;33m\u001b[0m\u001b[0m\n\u001b[0;32m      6\u001b[0m     \u001b[0mnext\u001b[0m\u001b[1;33m(\u001b[0m\u001b[0mdata\u001b[0m\u001b[1;33m)\u001b[0m\u001b[1;33m\u001b[0m\u001b[1;33m\u001b[0m\u001b[0m\n",
      "\u001b[1;31mFileNotFoundError\u001b[0m: [Errno 2] No such file or directory: 'LOCAL_PEOPLE_DONG_202112.csv'"
     ]
    }
   ],
   "source": [
    "data, code_data = file_open()\n",
    "\n",
    "input_name1 = input('핫플레이스가 위치한 행정동을 입력하세요 --> ')\n",
    "input_code1 = dong_search(input_name1)"
   ]
  }
 ],
 "metadata": {
  "kernelspec": {
   "display_name": "Python 3",
   "language": "python",
   "name": "python3"
  },
  "language_info": {
   "codemirror_mode": {
    "name": "ipython",
    "version": 3
   },
   "file_extension": ".py",
   "mimetype": "text/x-python",
   "name": "python",
   "nbconvert_exporter": "python",
   "pygments_lexer": "ipython3",
   "version": "3.8.8"
  }
 },
 "nbformat": 4,
 "nbformat_minor": 5
}

   "execution_count": 12,
   "id": "04884986",
   "metadata": {},
   "outputs": [],
   "source": [
    "swordsman = Character()"
   ]
  },
  {
   "cell_type": "code",
   "execution_count": 6,
   "id": "dc6f7b05",
   "metadata": {},
   "outputs": [
    {
     "name": "stdout",
     "output_type": "stream",
     "text": [
      "<class '__main__.Character'>\n"
     ]
    }
   ],
   "source": [
    "print(type(swordsman))"
   ]
  },
  {
   "cell_type": "code",
   "execution_count": 8,
   "id": "a096c7f6",
   "metadata": {},
   "outputs": [],
   "source": [
    "fairy = Character()\n",
    "thief = Character()"
   ]
  },
  {
   "cell_type": "code",
   "execution_count": 14,
   "id": "1a9b7c76",
   "metadata": {},
   "outputs": [
    {
     "name": "stdout",
     "output_type": "stream",
     "text": [
      "안녕하세요.\n"
     ]
    }
   ],
   "source": [
    "swordsman.hi()"
   ]
  },
  {
   "cell_type": "code",
   "execution_count": 16,
   "id": "097fe669",
   "metadata": {},
   "outputs": [
    {
     "name": "stdout",
     "output_type": "stream",
     "text": [
      "안녕! 난 검술사\n",
      "안녕! 난 요정\n",
      "안녕! 난 도적\n"
     ]
    }
   ],
   "source": [
    "class Character:\n",
    "    def hi(self, name):\n",
    "        print('안녕! 난 {}'.format(name))\n",
    "        \n",
    "swordsman = Character()\n",
    "swordsman.hi('검술사')\n",
    "fairy = Character()\n",
    "fairy.hi('요정')\n",
    "thief = Character()\n",
    "thief.hi('도적')"
   ]
  },
  {
   "cell_type": "code",
   "execution_count": 19,
   "id": "9b0c92da",
   "metadata": {},
   "outputs": [
    {
     "name": "stdout",
     "output_type": "stream",
     "text": [
      "안녕! 난 검술사\n",
      "도적 을/를 공격합니다\n",
      "요정 을/를 공격합니다\n"
     ]
    }
   ],
   "source": [
    "class Character:\n",
    "    def hi(self, name):\n",
    "        print('안녕! 난 {}'.format(name))\n",
    "    def attack(self, target):\n",
    "        print('{} 을/를 공격합니다'.format(target))\n",
    "        \n",
    "swordsman = Character()\n",
    "swordsman.hi('검술사')\n",
    "swordsman.attack('도적')\n",
    "swordsman.attack('요정')"
   ]
  },
  {
   "cell_type": "code",
   "execution_count": 23,
   "id": "a10fe001",
   "metadata": {},
   "outputs": [],
   "source": [
    "class Character:\n",
    "    def __init__(self,name,hp,ad):\n",
    "        self.name = name\n",
    "        self.strength = hp\n",
    "        self.attack_damage=ad\n",
    "        print('Character 클래스의 객체 생성 => {}'.format(self.name))\n",
    "    def attack(self, target):\n",
    "        print('{} 을/를 공격합니다'.format(target))"
   ]
  },
  {
   "cell_type": "code",
   "execution_count": 26,
   "id": "7ad8dd4a",
   "metadata": {},
   "outputs": [
    {
     "name": "stdout",
     "output_type": "stream",
     "text": [
      "Character 클래스의 객체 생성 => 검술사\n",
      "검술사 100 10\n"
     ]
    }
   ],
   "source": [
    "swordsman = Character('검술사',100, 10 )\n",
    "\n",
    "print(swordsman.name,swordsman.strength, swordsman.attack_damage)"
   ]
  },
  {
   "cell_type": "code",
   "execution_count": 2,
   "id": "3a0928fe",
   "metadata": {},
   "outputs": [
    {
     "name": "stdout",
     "output_type": "stream",
     "text": [
      "Character 클래스의 객체 생성 => 검술사\n",
      "이름 => 검술사, 체력 => 100,  공격력 => 10\n",
      "Character 클래스의 객체 생성 => 요정\n",
      "이름 => 요정, 체력 => 60,  공격력 => 5\n",
      "Character 클래스의 객체 생성 => 도적\n",
      "이름 => 도적, 체력 => 85,  공격력 => 8\n"
     ]
    }
   ],
   "source": [
    "class Character:\n",
    "    def __init__(self,name,hp,ad):\n",
    "        self.name = name\n",
    "        self.strength = hp\n",
    "        self.attack_damage=ad\n",
    "        print('Character 클래스의 객체 생성 => {}'.format(self.name))\n",
    "    def information(self):\n",
    "        print('이름 => {}, 체력 => {},  공격력 => {}'\n",
    "              .format(self.name,self.strength, self.attack_damage))\n",
    "    def attack(self, target):\n",
    "        print('{} 을/를 공격합니다'.format(target))\n",
    "        \n",
    "swordsman = Character('검술사',100, 10 )\n",
    "swordsman.information()\n",
    "fairy = Character('요정',60,5)\n",
    "fairy.information()\n",
    "thief = Character('도적',85,8)\n",
    "thief.information()"
   ]
  },
  {
   "cell_type": "code",
   "execution_count": 5,
   "id": "9f47d8aa",
   "metadata": {},
   "outputs": [
    {
     "name": "stdout",
     "output_type": "stream",
     "text": [
      "변경 전 -------------\n",
      "이름 => 검술사, 체력 => 120,  공격력 => 15\n",
      "변경 후 -------------\n",
      "이름 => 검술사, 체력 => 120,  공격력 => 15\n"
     ]
    }
   ],
   "source": [
    "print('변경 전 -------------')\n",
    "swordsman.information()\n",
    "\n",
    "swordsman.strength = 120\n",
    "swordsman.attack_damage = 15\n",
    "\n",
    "print('변경 후 -------------')\n",
    "swordsman.information()"
   ]
  },
  {
   "cell_type": "code",
   "execution_count": 16,
   "id": "6937e1e0",
   "metadata": {},
   "outputs": [
    {
     "name": "stdout",
     "output_type": "stream",
     "text": [
      "Character 클래스의 객체 생성 => 검술사\n",
      "Character 클래스의 객체 생성 => 요정\n",
      "Character 클래스의 객체 생성 => 도적\n",
      "검술사 이/가 요정 (60) 을/를 공격합니다.\n",
      "공격 성공! 요정 (50)\n"
     ]
    }
   ],
   "source": [
    "class Character:\n",
    "    def __init__(self,name,hp,ad):\n",
    "        self.name = name\n",
    "        self.strength = hp\n",
    "        self.attack_damage=ad\n",
    "        print('Character 클래스의 객체 생성 => {}'.format(self.name))\n",
    "    def information(self):\n",
    "        print('이름 => {}, 체력 => {},  공격력 => {}'\n",
    "              .format(self.name,self.strength, self.attack_damage))\n",
    "    def attack(self, target):\n",
    "        print('{} 이/가 {} ({}) 을/를 공격합니다.'\n",
    "             .format(self.name, target.name, target.strength))\n",
    "        target.strength -= self.attack_damage\n",
    "        print('공격 성공! {} ({})'.format(target.name,target.strength))\n",
    "    def level_up(self):\n",
    "        self.strength *= 1.2\n",
    "        self.attack_damage +=5\n",
    "     \n",
    "swordsman = Character('검술사',100, 10 )\n",
    "fairy = Character('요정',60,5)\n",
    "thief = Character('도적',85,8)\n",
    "\n",
    "swordsman.attack(fairy)"
   ]
  },
  {
   "cell_type": "code",
   "execution_count": 1,
   "id": "79b93acd",
   "metadata": {},
   "outputs": [
    {
     "name": "stdout",
     "output_type": "stream",
     "text": [
      "Character 클래스의 객체 생성 => 검술사\n",
      "현재 캐릭터 개수 = 1\n",
      "Character 클래스의 객체 생성 => 요정\n",
      "현재 캐릭터 개수 = 2\n",
      "Character 클래스의 객체 생성 => 도적\n",
      "현재 캐릭터 개수 = 3\n"
     ]
    }
   ],
   "source": [
    "class Character:\n",
    "    \n",
    "    total_Chracter_cnt = 0\n",
    "    \n",
    "    def __init__(self,name,hp,ad):\n",
    "        self.name = name\n",
    "        self.strength = hp\n",
    "        self.attack_damage=ad\n",
    "        print('Character 클래스의 객체 생성 => {}'.format(self.name))\n",
    "        Character.total_Chracter_cnt += 1\n",
    "        print('현재 캐릭터 개수 = {}'.format(Character.total_Chracter_cnt))\n",
    "    def information(self):\n",
    "        print('이름 => {}, 체력 => {},  공격력 => {}'\n",
    "              .format(self.name,self.strength, self.attack_damage))\n",
    "    def attack(self, target):\n",
    "        print('{} 이/가 {} ({}) 을/를 공격합니다.'\n",
    "             .format(self.name, target.name, target.strength))\n",
    "        target.strength -= self.attack_damage\n",
    "        print('공격 성공! {} ({})'.format(target.name,target.strength))\n",
    "    def level_up(self):\n",
    "        self.strength *= 1.2\n",
    "        self.attack_damage +=5\n",
    "        \n",
    "swordsman=Character('검술사',100,10)\n",
    "fairy = Character('요정',60,5)\n",
    "thief=Character('도적',85,8)"
   ]
  },
  {
   "cell_type": "code",
   "execution_count": 2,
   "id": "ad547eae",
   "metadata": {},
   "outputs": [],
   "source": [
    "class Product:\n",
    "    def __init__(self,n,p,s):\n",
    "        self.name,self.price,self.stock = n,p,s\n",
    "    \n",
    "    def information(self):\n",
    "        print('상품 이름 : {}'.format(self.name))\n",
    "        print('상품 가격 : {}'.format(self.price))\n",
    "        print('재고 수량 : {}'.format(self.stock))\n",
    "        \n",
    "class Member:\n",
    "    def __init__(self,n,d):\n",
    "        self.name, self.join_data = n,d\n",
    "        self.purchase_list=[]\n",
    "        self.purchase_amount=0\n",
    "    def information(self):\n",
    "        print('회원이름 : {}'.format(self.name))\n",
    "        print('가입날짜 : {}'.format(self.join_data))\n",
    "        print('구매내역 : {}'.format(self.purchase_list))\n",
    "        print('누적 구매금액 : {}'.format(self.purchase_amount))\n",
    "    def buy(self,product,count):\n",
    "        print('{} 고객님이 {} {} 개 구매 !'.format(self.name,product.name,count))\n",
    "        product.stock -=count\n",
    "        self.purchase_list.append(product.name)\n",
    "        self.purchase_amount+=count*product.price"
   ]
  },
  {
   "cell_type": "code",
   "execution_count": 3,
   "id": "b1507be6",
   "metadata": {},
   "outputs": [],
   "source": [
    "socks = Product('socks',1000,10)\n",
    "books = Product('books',17500,15)\n",
    "\n",
    "Anna = Member('Anna','20200420')\n",
    "Grace = Member('Grace','20200130')"
   ]
  },
  {
   "cell_type": "code",
   "execution_count": 4,
   "id": "edd41ed5",
   "metadata": {},
   "outputs": [
    {
     "name": "stdout",
     "output_type": "stream",
     "text": [
      "Anna 고객님이 socks 1 개 구매 !\n"
     ]
    }
   ],
   "source": [
    "Anna.buy(socks,1)"
   ]
  },
  {
   "cell_type": "code",
   "execution_count": 5,
   "id": "96912954",
   "metadata": {},
   "outputs": [
    {
     "name": "stdout",
     "output_type": "stream",
     "text": [
      "회원이름 : Anna\n",
      "가입날짜 : 20200420\n",
      "구매내역 : ['socks']\n",
      "누적 구매금액 : 1000\n"
     ]
    }
   ],
   "source": [
    "Anna.information()"
   ]
  },
  {
   "cell_type": "code",
   "execution_count": 6,
   "id": "62f79c9b",
   "metadata": {},
   "outputs": [
    {
     "name": "stdout",
     "output_type": "stream",
     "text": [
      "상품 이름 : socks\n",
      "상품 가격 : 1000\n",
      "재고 수량 : 9\n"
     ]
    }
   ],
   "source": [
    "socks.information()"
   ]
  },
  {
   "cell_type": "code",
   "execution_count": 7,
   "id": "026e89e3",
   "metadata": {},
   "outputs": [
    {
     "name": "stdout",
     "output_type": "stream",
     "text": [
      "Grace 고객님이 books 2 개 구매 !\n",
      "상품 이름 : books\n",
      "상품 가격 : 17500\n",
      "재고 수량 : 13\n"
     ]
    }
   ],
   "source": [
    "Grace.buy(books,2)\n",
    "books.information()"
   ]
  },
  {
   "cell_type": "code",
   "execution_count": 8,
   "id": "a8991c90",
   "metadata": {},
   "outputs": [
    {
     "name": "stdout",
     "output_type": "stream",
     "text": [
      "회원이름 : Grace\n",
      "가입날짜 : 20200130\n",
      "구매내역 : ['books']\n",
      "누적 구매금액 : 35000\n"
     ]
    }
   ],
   "source": [
    "Grace.information()"
   ]
  },
  {
   "cell_type": "code",
   "execution_count": 9,
   "id": "b13f26d2",
   "metadata": {},
   "outputs": [
    {
     "name": "stdout",
     "output_type": "stream",
     "text": [
      "Anna 고객님이 pen 5 개 구매 !\n"
     ]
    }
   ],
   "source": [
    "pen = Product('pen',1200,25)\n",
    "Anna.buy(pen,5)"
   ]
  },
  {
   "cell_type": "code",
   "execution_count": 10,
   "id": "507d4843",
   "metadata": {},
   "outputs": [
    {
     "name": "stdout",
     "output_type": "stream",
     "text": [
      "회원이름 : Anna\n",
      "가입날짜 : 20200420\n",
      "구매내역 : ['socks', 'pen']\n",
      "누적 구매금액 : 7000\n"
     ]
    }
   ],
   "source": [
    "Anna.information()"
   ]
  }
 ],
 "metadata": {
  "kernelspec": {
   "display_name": "Python 3",
   "language": "python",
   "name": "python3"
  },
  "language_info": {
   "codemirror_mode": {
    "name": "ipython",
    "version": 3
   },
   "file_extension": ".py",
   "mimetype": "text/x-python",
   "name": "python",
   "nbconvert_exporter": "python",
   "pygments_lexer": "ipython3",
   "version": "3.8.8"
  }
 },
 "nbformat": 4,
 "nbformat_minor": 5
}
